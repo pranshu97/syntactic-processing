{
 "cells": [
  {
   "cell_type": "markdown",
   "metadata": {},
   "source": [
    "## POS tagging using modified Viterbi"
   ]
  },
  {
   "cell_type": "markdown",
   "metadata": {},
   "source": [
    "### Data Preparation"
   ]
  },
  {
   "cell_type": "code",
   "execution_count": 1,
   "metadata": {},
   "outputs": [],
   "source": [
    "#Importing libraries\n",
    "import nltk, re, pprint\n",
    "import numpy as np\n",
    "import pandas as pd\n",
    "import requests\n",
    "import matplotlib.pyplot as plt\n",
    "import seaborn as sns\n",
    "import pprint, time\n",
    "import random\n",
    "from sklearn.model_selection import train_test_split\n",
    "from nltk.tokenize import word_tokenize"
   ]
  },
  {
   "cell_type": "code",
   "execution_count": 6,
   "metadata": {},
   "outputs": [],
   "source": [
    "# reading the Treebank tagged sentences\n",
    "nltk_data = list(nltk.corpus.treebank.tagged_sents(tagset='universal'))"
   ]
  },
  {
   "cell_type": "code",
   "execution_count": 7,
   "metadata": {},
   "outputs": [
    {
     "name": "stdout",
     "output_type": "stream",
     "text": [
      "[[('Pierre', 'NOUN'), ('Vinken', 'NOUN'), (',', '.'), ('61', 'NUM'), ('years', 'NOUN'), ('old', 'ADJ'), (',', '.'), ('will', 'VERB'), ('join', 'VERB'), ('the', 'DET'), ('board', 'NOUN'), ('as', 'ADP'), ('a', 'DET'), ('nonexecutive', 'ADJ'), ('director', 'NOUN'), ('Nov.', 'NOUN'), ('29', 'NUM'), ('.', '.')], [('Mr.', 'NOUN'), ('Vinken', 'NOUN'), ('is', 'VERB'), ('chairman', 'NOUN'), ('of', 'ADP'), ('Elsevier', 'NOUN'), ('N.V.', 'NOUN'), (',', '.'), ('the', 'DET'), ('Dutch', 'NOUN'), ('publishing', 'VERB'), ('group', 'NOUN'), ('.', '.')], [('Rudolph', 'NOUN'), ('Agnew', 'NOUN'), (',', '.'), ('55', 'NUM'), ('years', 'NOUN'), ('old', 'ADJ'), ('and', 'CONJ'), ('former', 'ADJ'), ('chairman', 'NOUN'), ('of', 'ADP'), ('Consolidated', 'NOUN'), ('Gold', 'NOUN'), ('Fields', 'NOUN'), ('PLC', 'NOUN'), (',', '.'), ('was', 'VERB'), ('named', 'VERB'), ('*-1', 'X'), ('a', 'DET'), ('nonexecutive', 'ADJ'), ('director', 'NOUN'), ('of', 'ADP'), ('this', 'DET'), ('British', 'ADJ'), ('industrial', 'ADJ'), ('conglomerate', 'NOUN'), ('.', '.')], [('A', 'DET'), ('form', 'NOUN'), ('of', 'ADP'), ('asbestos', 'NOUN'), ('once', 'ADV'), ('used', 'VERB'), ('*', 'X'), ('*', 'X'), ('to', 'PRT'), ('make', 'VERB'), ('Kent', 'NOUN'), ('cigarette', 'NOUN'), ('filters', 'NOUN'), ('has', 'VERB'), ('caused', 'VERB'), ('a', 'DET'), ('high', 'ADJ'), ('percentage', 'NOUN'), ('of', 'ADP'), ('cancer', 'NOUN'), ('deaths', 'NOUN'), ('among', 'ADP'), ('a', 'DET'), ('group', 'NOUN'), ('of', 'ADP'), ('workers', 'NOUN'), ('exposed', 'VERB'), ('*', 'X'), ('to', 'PRT'), ('it', 'PRON'), ('more', 'ADV'), ('than', 'ADP'), ('30', 'NUM'), ('years', 'NOUN'), ('ago', 'ADP'), (',', '.'), ('researchers', 'NOUN'), ('reported', 'VERB'), ('0', 'X'), ('*T*-1', 'X'), ('.', '.')], [('The', 'DET'), ('asbestos', 'NOUN'), ('fiber', 'NOUN'), (',', '.'), ('crocidolite', 'NOUN'), (',', '.'), ('is', 'VERB'), ('unusually', 'ADV'), ('resilient', 'ADJ'), ('once', 'ADP'), ('it', 'PRON'), ('enters', 'VERB'), ('the', 'DET'), ('lungs', 'NOUN'), (',', '.'), ('with', 'ADP'), ('even', 'ADV'), ('brief', 'ADJ'), ('exposures', 'NOUN'), ('to', 'PRT'), ('it', 'PRON'), ('causing', 'VERB'), ('symptoms', 'NOUN'), ('that', 'DET'), ('*T*-1', 'X'), ('show', 'VERB'), ('up', 'PRT'), ('decades', 'NOUN'), ('later', 'ADJ'), (',', '.'), ('researchers', 'NOUN'), ('said', 'VERB'), ('0', 'X'), ('*T*-2', 'X'), ('.', '.')], [('Lorillard', 'NOUN'), ('Inc.', 'NOUN'), (',', '.'), ('the', 'DET'), ('unit', 'NOUN'), ('of', 'ADP'), ('New', 'ADJ'), ('York-based', 'ADJ'), ('Loews', 'NOUN'), ('Corp.', 'NOUN'), ('that', 'DET'), ('*T*-2', 'X'), ('makes', 'VERB'), ('Kent', 'NOUN'), ('cigarettes', 'NOUN'), (',', '.'), ('stopped', 'VERB'), ('using', 'VERB'), ('crocidolite', 'NOUN'), ('in', 'ADP'), ('its', 'PRON'), ('Micronite', 'NOUN'), ('cigarette', 'NOUN'), ('filters', 'NOUN'), ('in', 'ADP'), ('1956', 'NUM'), ('.', '.')], [('Although', 'ADP'), ('preliminary', 'ADJ'), ('findings', 'NOUN'), ('were', 'VERB'), ('reported', 'VERB'), ('*-2', 'X'), ('more', 'ADV'), ('than', 'ADP'), ('a', 'DET'), ('year', 'NOUN'), ('ago', 'ADP'), (',', '.'), ('the', 'DET'), ('latest', 'ADJ'), ('results', 'NOUN'), ('appear', 'VERB'), ('in', 'ADP'), ('today', 'NOUN'), (\"'s\", 'PRT'), ('New', 'NOUN'), ('England', 'NOUN'), ('Journal', 'NOUN'), ('of', 'ADP'), ('Medicine', 'NOUN'), (',', '.'), ('a', 'DET'), ('forum', 'NOUN'), ('likely', 'ADJ'), ('*', 'X'), ('to', 'PRT'), ('bring', 'VERB'), ('new', 'ADJ'), ('attention', 'NOUN'), ('to', 'PRT'), ('the', 'DET'), ('problem', 'NOUN'), ('.', '.')], [('A', 'DET'), ('Lorillard', 'NOUN'), ('spokewoman', 'NOUN'), ('said', 'VERB'), (',', '.'), ('``', '.'), ('This', 'DET'), ('is', 'VERB'), ('an', 'DET'), ('old', 'ADJ'), ('story', 'NOUN'), ('.', '.')], [('We', 'PRON'), (\"'re\", 'VERB'), ('talking', 'VERB'), ('about', 'ADP'), ('years', 'NOUN'), ('ago', 'ADP'), ('before', 'ADP'), ('anyone', 'NOUN'), ('heard', 'VERB'), ('of', 'ADP'), ('asbestos', 'NOUN'), ('having', 'VERB'), ('any', 'DET'), ('questionable', 'ADJ'), ('properties', 'NOUN'), ('.', '.')], [('There', 'DET'), ('is', 'VERB'), ('no', 'DET'), ('asbestos', 'NOUN'), ('in', 'ADP'), ('our', 'PRON'), ('products', 'NOUN'), ('now', 'ADV'), ('.', '.'), (\"''\", '.')], [('Neither', 'DET'), ('Lorillard', 'NOUN'), ('nor', 'CONJ'), ('the', 'DET'), ('researchers', 'NOUN'), ('who', 'PRON'), ('*T*-3', 'X'), ('studied', 'VERB'), ('the', 'DET'), ('workers', 'NOUN'), ('were', 'VERB'), ('aware', 'ADJ'), ('of', 'ADP'), ('any', 'DET'), ('research', 'NOUN'), ('on', 'ADP'), ('smokers', 'NOUN'), ('of', 'ADP'), ('the', 'DET'), ('Kent', 'NOUN'), ('cigarettes', 'NOUN'), ('.', '.')], [('``', '.'), ('We', 'PRON'), ('have', 'VERB'), ('no', 'DET'), ('useful', 'ADJ'), ('information', 'NOUN'), ('on', 'ADP'), ('whether', 'ADP'), ('users', 'NOUN'), ('are', 'VERB'), ('at', 'ADP'), ('risk', 'NOUN'), (',', '.'), (\"''\", '.'), ('said', 'VERB'), ('*T*-1', 'X'), ('James', 'NOUN'), ('A.', 'NOUN'), ('Talcott', 'NOUN'), ('of', 'ADP'), ('Boston', 'NOUN'), (\"'s\", 'PRT'), ('Dana-Farber', 'NOUN'), ('Cancer', 'NOUN'), ('Institute', 'NOUN'), ('.', '.')], [('Dr.', 'NOUN'), ('Talcott', 'NOUN'), ('led', 'VERB'), ('a', 'DET'), ('team', 'NOUN'), ('of', 'ADP'), ('researchers', 'NOUN'), ('from', 'ADP'), ('the', 'DET'), ('National', 'NOUN'), ('Cancer', 'NOUN'), ('Institute', 'NOUN'), ('and', 'CONJ'), ('the', 'DET'), ('medical', 'ADJ'), ('schools', 'NOUN'), ('of', 'ADP'), ('Harvard', 'NOUN'), ('University', 'NOUN'), ('and', 'CONJ'), ('Boston', 'NOUN'), ('University', 'NOUN'), ('.', '.')], [('The', 'DET'), ('Lorillard', 'NOUN'), ('spokeswoman', 'NOUN'), ('said', 'VERB'), ('0', 'X'), ('asbestos', 'NOUN'), ('was', 'VERB'), ('used', 'VERB'), ('*-1', 'X'), ('in', 'ADP'), ('``', '.'), ('very', 'ADV'), ('modest', 'ADJ'), ('amounts', 'NOUN'), (\"''\", '.'), ('in', 'ADP'), ('*', 'X'), ('making', 'VERB'), ('paper', 'NOUN'), ('for', 'ADP'), ('the', 'DET'), ('filters', 'NOUN'), ('in', 'ADP'), ('the', 'DET'), ('early', 'ADJ'), ('1950s', 'NUM'), ('and', 'CONJ'), ('replaced', 'VERB'), ('*-1', 'X'), ('with', 'ADP'), ('a', 'DET'), ('different', 'ADJ'), ('type', 'NOUN'), ('of', 'ADP'), ('filter', 'NOUN'), ('in', 'ADP'), ('1956', 'NUM'), ('.', '.')], [('From', 'ADP'), ('1953', 'NUM'), ('to', 'PRT'), ('1955', 'NUM'), (',', '.'), ('9.8', 'NUM'), ('billion', 'NUM'), ('Kent', 'NOUN'), ('cigarettes', 'NOUN'), ('with', 'ADP'), ('the', 'DET'), ('filters', 'NOUN'), ('were', 'VERB'), ('sold', 'VERB'), ('*-3', 'X'), (',', '.'), ('the', 'DET'), ('company', 'NOUN'), ('said', 'VERB'), ('0', 'X'), ('*T*-1', 'X'), ('.', '.')], [('Among', 'ADP'), ('33', 'NUM'), ('men', 'NOUN'), ('who', 'PRON'), ('*T*-4', 'X'), ('worked', 'VERB'), ('closely', 'ADV'), ('with', 'ADP'), ('the', 'DET'), ('substance', 'NOUN'), (',', '.'), ('28', 'NUM'), ('*ICH*-1', 'X'), ('have', 'VERB'), ('died', 'VERB'), ('--', '.'), ('more', 'ADJ'), ('than', 'ADP'), ('three', 'NUM'), ('times', 'NOUN'), ('the', 'DET'), ('expected', 'VERB'), ('number', 'NOUN'), ('.', '.')], [('Four', 'NUM'), ('of', 'ADP'), ('the', 'DET'), ('five', 'NUM'), ('surviving', 'VERB'), ('workers', 'NOUN'), ('have', 'VERB'), ('asbestos-related', 'ADJ'), ('diseases', 'NOUN'), (',', '.'), ('including', 'VERB'), ('three', 'NUM'), ('with', 'ADP'), ('recently', 'ADV'), ('diagnosed', 'VERB'), ('cancer', 'NOUN'), ('.', '.')], [('The', 'DET'), ('total', 'NOUN'), ('of', 'ADP'), ('18', 'NUM'), ('deaths', 'NOUN'), ('from', 'ADP'), ('malignant', 'ADJ'), ('mesothelioma', 'NOUN'), (',', '.'), ('lung', 'NOUN'), ('cancer', 'NOUN'), ('and', 'CONJ'), ('asbestosis', 'NOUN'), ('was', 'VERB'), ('far', 'ADV'), ('higher', 'ADJ'), ('than', 'ADP'), ('*', 'X'), ('expected', 'VERB'), ('*?*', 'X'), (',', '.'), ('the', 'DET'), ('researchers', 'NOUN'), ('said', 'VERB'), ('0', 'X'), ('*T*-1', 'X'), ('.', '.')], [('``', '.'), ('The', 'DET'), ('morbidity', 'NOUN'), ('rate', 'NOUN'), ('is', 'VERB'), ('a', 'DET'), ('striking', 'ADJ'), ('finding', 'NOUN'), ('among', 'ADP'), ('those', 'DET'), ('of', 'ADP'), ('us', 'PRON'), ('who', 'PRON'), ('*T*-5', 'X'), ('study', 'VERB'), ('asbestos-related', 'ADJ'), ('diseases', 'NOUN'), (',', '.'), (\"''\", '.'), ('said', 'VERB'), ('*T*-1', 'X'), ('Dr.', 'NOUN'), ('Talcott', 'NOUN'), ('.', '.')], [('The', 'DET'), ('percentage', 'NOUN'), ('of', 'ADP'), ('lung', 'NOUN'), ('cancer', 'NOUN'), ('deaths', 'NOUN'), ('among', 'ADP'), ('the', 'DET'), ('workers', 'NOUN'), ('at', 'ADP'), ('the', 'DET'), ('West', 'NOUN'), ('Groton', 'NOUN'), (',', '.'), ('Mass.', 'NOUN'), (',', '.'), ('paper', 'NOUN'), ('factory', 'NOUN'), ('appears', 'VERB'), ('*-1', 'X'), ('to', 'PRT'), ('be', 'VERB'), ('the', 'DET'), ('highest', 'ADJ'), ('for', 'ADP'), ('any', 'DET'), ('asbestos', 'NOUN'), ('workers', 'NOUN'), ('studied', 'VERB'), ('*', 'X'), ('in', 'ADP'), ('Western', 'ADJ'), ('industrialized', 'VERB'), ('countries', 'NOUN'), (',', '.'), ('he', 'PRON'), ('said', 'VERB'), ('0', 'X'), ('*T*-2', 'X'), ('.', '.')], [('The', 'DET'), ('plant', 'NOUN'), (',', '.'), ('which', 'DET'), ('*T*-1', 'X'), ('is', 'VERB'), ('owned', 'VERB'), ('*-4', 'X'), ('by', 'ADP'), ('Hollingsworth', 'NOUN'), ('&', 'CONJ'), ('Vose', 'NOUN'), ('Co.', 'NOUN'), (',', '.'), ('was', 'VERB'), ('under', 'ADP'), ('contract', 'NOUN'), ('*ICH*-2', 'X'), ('with', 'ADP'), ('Lorillard', 'NOUN'), ('*', 'X'), ('to', 'PRT'), ('make', 'VERB'), ('the', 'DET'), ('cigarette', 'NOUN'), ('filters', 'NOUN'), ('.', '.')], [('The', 'DET'), ('finding', 'NOUN'), ('probably', 'ADV'), ('will', 'VERB'), ('support', 'VERB'), ('those', 'DET'), ('who', 'PRON'), ('*T*-6', 'X'), ('argue', 'VERB'), ('that', 'ADP'), ('the', 'DET'), ('U.S.', 'NOUN'), ('should', 'VERB'), ('regulate', 'VERB'), ('the', 'DET'), ('class', 'NOUN'), ('of', 'ADP'), ('asbestos', 'NOUN'), ('including', 'VERB'), ('crocidolite', 'NOUN'), ('more', 'ADV'), ('stringently', 'ADV'), ('than', 'ADP'), ('the', 'DET'), ('common', 'ADJ'), ('kind', 'NOUN'), ('of', 'ADP'), ('asbestos', 'NOUN'), (',', '.'), ('chrysotile', 'NOUN'), (',', '.'), ('found', 'VERB'), ('*', 'X'), ('in', 'ADP'), ('most', 'ADJ'), ('schools', 'NOUN'), ('and', 'CONJ'), ('other', 'ADJ'), ('buildings', 'NOUN'), (',', '.'), ('Dr.', 'NOUN'), ('Talcott', 'NOUN'), ('said', 'VERB'), ('0', 'X'), ('*T*-1', 'X'), ('.', '.')], [('The', 'DET'), ('U.S.', 'NOUN'), ('is', 'VERB'), ('one', 'NUM'), ('of', 'ADP'), ('the', 'DET'), ('few', 'ADJ'), ('industrialized', 'VERB'), ('nations', 'NOUN'), ('that', 'DET'), ('*T*-7', 'X'), ('does', 'VERB'), (\"n't\", 'ADV'), ('have', 'VERB'), ('a', 'DET'), ('higher', 'ADJ'), ('standard', 'NOUN'), ('of', 'ADP'), ('regulation', 'NOUN'), ('for', 'ADP'), ('the', 'DET'), ('smooth', 'ADJ'), (',', '.'), ('needle-like', 'ADJ'), ('fibers', 'NOUN'), ('such', 'ADJ'), ('as', 'ADP'), ('crocidolite', 'NOUN'), ('that', 'DET'), ('*T*-1', 'X'), ('are', 'VERB'), ('classified', 'VERB'), ('*-5', 'X'), ('as', 'ADP'), ('amphobiles', 'NOUN'), (',', '.'), ('according', 'VERB'), ('to', 'PRT'), ('Brooke', 'NOUN'), ('T.', 'NOUN'), ('Mossman', 'NOUN'), (',', '.'), ('a', 'DET'), ('professor', 'NOUN'), ('of', 'ADP'), ('pathlogy', 'NOUN'), ('at', 'ADP'), ('the', 'DET'), ('University', 'NOUN'), ('of', 'ADP'), ('Vermont', 'NOUN'), ('College', 'NOUN'), ('of', 'ADP'), ('Medicine', 'NOUN'), ('.', '.')], [('More', 'ADV'), ('common', 'ADJ'), ('chrysotile', 'NOUN'), ('fibers', 'NOUN'), ('are', 'VERB'), ('curly', 'ADJ'), ('and', 'CONJ'), ('are', 'VERB'), ('more', 'ADV'), ('easily', 'ADV'), ('rejected', 'VERB'), ('*-1', 'X'), ('by', 'ADP'), ('the', 'DET'), ('body', 'NOUN'), (',', '.'), ('Dr.', 'NOUN'), ('Mossman', 'NOUN'), ('explained', 'VERB'), ('0', 'X'), ('*T*-2', 'X'), ('.', '.')], [('In', 'ADP'), ('July', 'NOUN'), (',', '.'), ('the', 'DET'), ('Environmental', 'NOUN'), ('Protection', 'NOUN'), ('Agency', 'NOUN'), ('imposed', 'VERB'), ('a', 'DET'), ('gradual', 'ADJ'), ('ban', 'NOUN'), ('on', 'ADP'), ('virtually', 'ADV'), ('all', 'DET'), ('uses', 'NOUN'), ('of', 'ADP'), ('asbestos', 'NOUN'), ('.', '.')], [('By', 'ADP'), ('1997', 'NUM'), (',', '.'), ('almost', 'ADV'), ('all', 'DET'), ('remaining', 'VERB'), ('uses', 'NOUN'), ('of', 'ADP'), ('cancer-causing', 'ADJ'), ('asbestos', 'NOUN'), ('will', 'VERB'), ('be', 'VERB'), ('outlawed', 'VERB'), ('*-6', 'X'), ('.', '.')], [('About', 'ADP'), ('160', 'NUM'), ('workers', 'NOUN'), ('at', 'ADP'), ('a', 'DET'), ('factory', 'NOUN'), ('that', 'DET'), ('*T*-8', 'X'), ('made', 'VERB'), ('paper', 'NOUN'), ('for', 'ADP'), ('the', 'DET'), ('Kent', 'NOUN'), ('filters', 'NOUN'), ('were', 'VERB'), ('exposed', 'VERB'), ('*-7', 'X'), ('to', 'PRT'), ('asbestos', 'NOUN'), ('in', 'ADP'), ('the', 'DET'), ('1950s', 'NUM'), ('.', '.')], [('Areas', 'NOUN'), ('of', 'ADP'), ('the', 'DET'), ('factory', 'NOUN'), ('*ICH*-2', 'X'), ('were', 'VERB'), ('particularly', 'ADV'), ('dusty', 'ADJ'), ('where', 'ADV'), ('the', 'DET'), ('crocidolite', 'NOUN'), ('was', 'VERB'), ('used', 'VERB'), ('*-8', 'X'), ('*T*-1', 'X'), ('.', '.')], [('Workers', 'NOUN'), ('dumped', 'VERB'), ('large', 'ADJ'), ('burlap', 'NOUN'), ('sacks', 'NOUN'), ('of', 'ADP'), ('the', 'DET'), ('imported', 'VERB'), ('material', 'NOUN'), ('into', 'ADP'), ('a', 'DET'), ('huge', 'ADJ'), ('bin', 'NOUN'), (',', '.'), ('poured', 'VERB'), ('in', 'PRT'), ('cotton', 'NOUN'), ('and', 'CONJ'), ('acetate', 'NOUN'), ('fibers', 'NOUN'), ('and', 'CONJ'), ('mechanically', 'ADV'), ('mixed', 'VERB'), ('the', 'DET'), ('dry', 'ADJ'), ('fibers', 'NOUN'), ('in', 'ADP'), ('a', 'DET'), ('process', 'NOUN'), ('used', 'VERB'), ('*', 'X'), ('*', 'X'), ('to', 'PRT'), ('make', 'VERB'), ('filters', 'NOUN'), ('.', '.')], [('Workers', 'NOUN'), ('described', 'VERB'), ('``', '.'), ('clouds', 'NOUN'), ('of', 'ADP'), ('blue', 'ADJ'), ('dust', 'NOUN'), (\"''\", '.'), ('that', 'DET'), ('*T*-1', 'X'), ('hung', 'VERB'), ('over', 'ADP'), ('parts', 'NOUN'), ('of', 'ADP'), ('the', 'DET'), ('factory', 'NOUN'), (',', '.'), ('even', 'ADV'), ('though', 'ADP'), ('exhaust', 'NOUN'), ('fans', 'NOUN'), ('ventilated', 'VERB'), ('the', 'DET'), ('area', 'NOUN'), ('.', '.')], [('``', '.'), ('There', 'DET'), (\"'s\", 'VERB'), ('no', 'DET'), ('question', 'NOUN'), ('that', 'ADP'), ('some', 'DET'), ('of', 'ADP'), ('those', 'DET'), ('workers', 'NOUN'), ('and', 'CONJ'), ('managers', 'NOUN'), ('contracted', 'VERB'), ('asbestos-related', 'ADJ'), ('diseases', 'NOUN'), (',', '.'), (\"''\", '.'), ('said', 'VERB'), ('*T*-1', 'X'), ('Darrell', 'NOUN'), ('Phillips', 'NOUN'), (',', '.'), ('vice', 'NOUN'), ('president', 'NOUN'), ('of', 'ADP'), ('human', 'ADJ'), ('resources', 'NOUN'), ('for', 'ADP'), ('Hollingsworth', 'NOUN'), ('&', 'CONJ'), ('Vose', 'NOUN'), ('.', '.')], [('``', '.'), ('But', 'CONJ'), ('you', 'PRON'), ('have', 'VERB'), ('*-1', 'X'), ('to', 'PRT'), ('recognize', 'VERB'), ('that', 'ADP'), ('these', 'DET'), ('events', 'NOUN'), ('took', 'VERB'), ('place', 'NOUN'), ('35', 'NUM'), ('years', 'NOUN'), ('ago', 'ADP'), ('.', '.')], [('It', 'PRON'), ('has', 'VERB'), ('no', 'DET'), ('bearing', 'NOUN'), ('on', 'ADP'), ('our', 'PRON'), ('work', 'NOUN'), ('force', 'NOUN'), ('today', 'NOUN'), ('.', '.')], [('Yields', 'NOUN'), ('on', 'ADP'), ('money-market', 'ADJ'), ('mutual', 'ADJ'), ('funds', 'NOUN'), ('continued', 'VERB'), ('*-1', 'X'), ('to', 'PRT'), ('slide', 'VERB'), (',', '.'), ('amid', 'ADP'), ('signs', 'NOUN'), ('that', 'ADP'), ('portfolio', 'NOUN'), ('managers', 'NOUN'), ('expect', 'VERB'), ('further', 'ADJ'), ('declines', 'NOUN'), ('in', 'ADP'), ('interest', 'NOUN'), ('rates', 'NOUN'), ('.', '.')], [('The', 'DET'), ('average', 'ADJ'), ('seven-day', 'ADJ'), ('compound', 'NOUN'), ('yield', 'NOUN'), ('of', 'ADP'), ('the', 'DET'), ('400', 'NUM'), ('taxable', 'ADJ'), ('funds', 'NOUN'), ('tracked', 'VERB'), ('*', 'X'), ('by', 'ADP'), ('IBC', 'NOUN'), (\"'s\", 'PRT'), ('Money', 'NOUN'), ('Fund', 'NOUN'), ('Report', 'NOUN'), ('eased', 'VERB'), ('a', 'DET'), ('fraction', 'NOUN'), ('of', 'ADP'), ('a', 'DET'), ('percentage', 'NOUN'), ('point', 'NOUN'), ('to', 'PRT'), ('8.45', 'NUM'), ('%', 'NOUN'), ('from', 'ADP'), ('8.47', 'NUM'), ('%', 'NOUN'), ('for', 'ADP'), ('the', 'DET'), ('week', 'NOUN'), ('ended', 'VERB'), ('Tuesday', 'NOUN'), ('.', '.')], [('Compound', 'NOUN'), ('yields', 'NOUN'), ('assume', 'VERB'), ('reinvestment', 'NOUN'), ('of', 'ADP'), ('dividends', 'NOUN'), ('and', 'CONJ'), ('that', 'ADP'), ('the', 'DET'), ('current', 'ADJ'), ('yield', 'NOUN'), ('continues', 'VERB'), ('for', 'ADP'), ('a', 'DET'), ('year', 'NOUN'), ('.', '.')], [('Average', 'ADJ'), ('maturity', 'NOUN'), ('of', 'ADP'), ('the', 'DET'), ('funds', 'NOUN'), (\"'\", 'PRT'), ('investments', 'NOUN'), ('lengthened', 'VERB'), ('by', 'ADP'), ('a', 'DET'), ('day', 'NOUN'), ('to', 'PRT'), ('41', 'NUM'), ('days', 'NOUN'), (',', '.'), ('the', 'DET'), ('longest', 'ADJ'), ('since', 'ADP'), ('early', 'ADJ'), ('August', 'NOUN'), (',', '.'), ('according', 'VERB'), ('to', 'PRT'), ('Donoghue', 'NOUN'), (\"'s\", 'PRT'), ('.', '.')], [('Longer', 'ADJ'), ('maturities', 'NOUN'), ('are', 'VERB'), ('thought', 'VERB'), ('*-1', 'X'), ('to', 'PRT'), ('indicate', 'VERB'), ('declining', 'VERB'), ('interest', 'NOUN'), ('rates', 'NOUN'), ('because', 'ADP'), ('they', 'PRON'), ('permit', 'VERB'), ('portfolio', 'NOUN'), ('managers', 'NOUN'), ('to', 'PRT'), ('retain', 'VERB'), ('relatively', 'ADV'), ('higher', 'ADJ'), ('rates', 'NOUN'), ('for', 'ADP'), ('a', 'DET'), ('longer', 'ADJ'), ('period', 'NOUN'), ('.', '.')], [('Shorter', 'ADJ'), ('maturities', 'NOUN'), ('are', 'VERB'), ('considered', 'VERB'), ('*-9', 'X'), ('a', 'DET'), ('sign', 'NOUN'), ('of', 'ADP'), ('rising', 'VERB'), ('rates', 'NOUN'), ('because', 'ADP'), ('portfolio', 'NOUN'), ('managers', 'NOUN'), ('can', 'VERB'), ('capture', 'VERB'), ('higher', 'ADJ'), ('rates', 'NOUN'), ('sooner', 'ADV'), ('.', '.')], [('The', 'DET'), ('average', 'ADJ'), ('maturity', 'NOUN'), ('for', 'ADP'), ('funds', 'NOUN'), ('open', 'ADJ'), ('only', 'ADV'), ('to', 'PRT'), ('institutions', 'NOUN'), (',', '.'), ('considered', 'VERB'), ('by', 'ADP'), ('some', 'DET'), ('*', 'X'), ('to', 'PRT'), ('be', 'VERB'), ('a', 'DET'), ('stronger', 'ADJ'), ('indicator', 'NOUN'), ('because', 'ADP'), ('those', 'DET'), ('managers', 'NOUN'), ('watch', 'VERB'), ('the', 'DET'), ('market', 'NOUN'), ('closely', 'ADV'), (',', '.'), ('reached', 'VERB'), ('a', 'DET'), ('high', 'ADJ'), ('point', 'NOUN'), ('for', 'ADP'), ('the', 'DET'), ('year', 'NOUN'), ('--', '.'), ('33', 'NUM'), ('days', 'NOUN'), ('.', '.')]]\n"
     ]
    }
   ],
   "source": [
    "print(nltk_data[:40])"
   ]
  },
  {
   "cell_type": "code",
   "execution_count": 8,
   "metadata": {},
   "outputs": [
    {
     "name": "stdout",
     "output_type": "stream",
     "text": [
      "3718\n",
      "196\n",
      "[[('The', 'DET'), ('loudest', 'ADJ'), ('of', 'ADP'), ('these', 'DET'), ('reformers', 'NOUN'), ('are', 'VERB'), ('money', 'NOUN'), ('managers', 'NOUN'), ('who', 'PRON'), ('*T*-77', 'X'), ('cater', 'VERB'), ('to', 'PRT'), ('smaller', 'ADJ'), ('investors', 'NOUN'), ('.', '.')], [('This', 'DET'), ('provision', 'NOUN'), ('amounts', 'VERB'), ('to', 'PRT'), ('a', 'DET'), ('legislative', 'ADJ'), ('veto', 'NOUN'), ('over', 'ADP'), ('the', 'DET'), ('president', 'NOUN'), (\"'s\", 'PRT'), ('execution', 'NOUN'), ('of', 'ADP'), ('the', 'DET'), ('law', 'NOUN'), (',', '.'), ('since', 'ADP'), ('a', 'DET'), ('one-house', 'ADJ'), ('resolution', 'NOUN'), ('could', 'VERB'), ('be', 'VERB'), ('said', 'VERB'), ('*-1', 'X'), ('to', 'PRT'), ('be', 'VERB'), ('``', '.'), ('duly', 'ADV'), ('adopted', 'VERB'), (\"''\", '.'), ('even', 'ADV'), ('though', 'ADP'), ('it', 'PRON'), ('would', 'VERB'), ('require', 'VERB'), ('neither', 'DET'), ('bicameral', 'ADJ'), ('action', 'NOUN'), ('in', 'ADP'), ('Congress', 'NOUN'), ('nor', 'CONJ'), ('presentation', 'NOUN'), ('to', 'PRT'), ('the', 'DET'), ('president', 'NOUN'), ('for', 'ADP'), ('his', 'PRON'), ('signature', 'NOUN'), ('or', 'CONJ'), ('veto', 'NOUN'), ('.', '.')], [('Transamerica', 'NOUN'), ('Corp.', 'NOUN'), (',', '.'), ('San', 'NOUN'), ('Francisco', 'NOUN'), (',', '.'), ('said', 'VERB'), ('0', 'X'), ('third-quarter', 'NOUN'), ('profit', 'NOUN'), ('was', 'VERB'), ('essentially', 'ADV'), ('flat', 'ADJ'), ('despite', 'ADP'), ('a', 'DET'), ('large', 'ADJ'), ('one-time', 'ADJ'), ('gain', 'NOUN'), ('a', 'DET'), ('year', 'NOUN'), ('earlier', 'ADJ'), ('.', '.')], [('``', '.'), ('She', 'PRON'), ('said', 'VERB'), ('something', 'NOUN'), ('like', 'ADP'), ('`', '.'), ('You', 'PRON'), ('just', 'ADV'), ('want', 'VERB'), ('*-1', 'X'), ('to', 'PRT'), ('make', 'VERB'), ('it', 'PRON'), ('easy', 'ADJ'), ('for', 'ADP'), ('the', 'DET'), ('school', 'NOUN'), ('.', '.'), (\"'\", '.')], [('For', 'ADP'), ('some', 'DET'), ('time', 'NOUN'), (',', '.'), ('banks', 'NOUN'), ('have', 'VERB'), ('been', 'VERB'), ('aiming', 'VERB'), ('packages', 'NOUN'), ('at', 'ADP'), ('the', 'DET'), ('elderly', 'ADJ'), (',', '.'), ('the', 'DET'), ('demographic', 'ADJ'), ('segment', 'NOUN'), ('with', 'ADP'), ('the', 'DET'), ('highest', 'ADJ'), ('savings', 'NOUN'), ('.', '.')], [('``', '.'), ('What', 'PRON'), ('*T*-164', 'X'), (\"'s\", 'VERB'), ('different', 'ADJ'), ('is', 'VERB'), ('that', 'ADP'), ('it', 'PRON'), ('is', 'VERB'), ('happening', 'VERB'), ('with', 'ADP'), ('young', 'ADJ'), ('wines', 'NOUN'), ('just', 'ADV'), ('coming', 'VERB'), ('out', 'PRT'), ('.', '.')], [('Labor', 'NOUN'), ('unions', 'NOUN'), ('and', 'CONJ'), ('Democrats', 'NOUN'), ('long', 'ADV'), ('fought', 'VERB'), ('the', 'DET'), ('idea', 'NOUN'), (',', '.'), ('but', 'CONJ'), ('recently', 'ADV'), ('acceded', 'VERB'), ('to', 'PRT'), ('it', 'PRON'), ('in', 'ADP'), ('the', 'DET'), ('face', 'NOUN'), ('of', 'ADP'), ('Bush', 'NOUN'), ('administration', 'NOUN'), ('insistence', 'NOUN'), ('.', '.')], [('Mr.', 'NOUN'), ('Spoon', 'NOUN'), ('said', 'VERB'), ('0', 'X'), ('the', 'DET'), ('plan', 'NOUN'), ('is', 'VERB'), ('not', 'ADV'), ('an', 'DET'), ('attempt', 'NOUN'), ('*', 'X'), ('to', 'PRT'), ('shore', 'VERB'), ('up', 'PRT'), ('a', 'DET'), ('decline', 'NOUN'), ('in', 'ADP'), ('ad', 'NOUN'), ('pages', 'NOUN'), ('in', 'ADP'), ('the', 'DET'), ('first', 'ADJ'), ('nine', 'NUM'), ('months', 'NOUN'), ('of', 'ADP'), ('1989', 'NUM'), (';', '.'), ('Newsweek', 'NOUN'), (\"'s\", 'PRT'), ('ad', 'NOUN'), ('pages', 'NOUN'), ('totaled', 'VERB'), ('1,620', 'NUM'), (',', '.'), ('a', 'DET'), ('drop', 'NOUN'), ('of', 'ADP'), ('3.2', 'NUM'), ('%', 'NOUN'), ('from', 'ADP'), ('last', 'ADJ'), ('year', 'NOUN'), (',', '.'), ('according', 'VERB'), ('to', 'PRT'), ('Publishers', 'NOUN'), ('Information', 'NOUN'), ('Bureau', 'NOUN'), ('.', '.')], [('We', 'PRON'), ('-LRB-', '.'), ('I', 'PRON'), ('assume', 'VERB'), ('0', 'X'), ('you', 'PRON'), (\"'re\", 'VERB'), ('in', 'ADP'), ('this', 'DET'), ('with', 'ADP'), ('me', 'PRON'), ('at', 'ADP'), ('this', 'DET'), ('point', 'NOUN'), ('-RRB-', '.'), ('need', 'VERB'), ('*-1', 'X'), ('to', 'PRT'), ('get', 'VERB'), ('three', 'NUM'), ('words', 'NOUN'), ('--', '.'), ('``', '.'), ('for', 'ADP'), ('examination', 'NOUN'), ('only', 'ADV'), (\"''\", '.'), ('--', '.'), ('eliminated', 'VERB'), ('from', 'ADP'), ('the', 'DET'), ('law', 'NOUN'), ('.', '.')], [('-LRB-', '.'), ('This', 'DET'), ('*ICH*-1', 'X'), ('clearly', 'ADV'), ('is', 'VERB'), ('not', 'ADV'), ('real', 'ADJ'), ('life', 'NOUN'), (':', '.'), ('no', 'DET'), ('crack', 'NOUN'), ('dealers', 'NOUN'), (',', '.'), ('no', 'DET'), ('dead-eyed', 'ADJ'), ('men', 'NOUN'), ('selling', 'VERB'), ('four-year-old', 'ADJ'), ('copies', 'NOUN'), ('of', 'ADP'), ('Cosmopolitan', 'NOUN'), (',', '.'), ('no', 'DET'), ('one', 'PRON'), ('curled', 'VERB'), ('up', 'PRT'), ('in', 'ADP'), ('a', 'DET'), ('cardboard', 'NOUN'), ('box', 'NOUN'), ('.', '.'), ('-RRB-', '.')], [('Although', 'ADP'), ('she', 'PRON'), ('was', 'VERB'), ('kind', 'ADJ'), ('and', 'CONJ'), ('playful', 'ADJ'), ('to', 'PRT'), ('her', 'PRON'), ('children', 'NOUN'), (',', '.'), ('she', 'PRON'), ('was', 'VERB'), ('dreadful', 'ADJ'), ('to', 'PRT'), ('her', 'PRON'), ('war-damaged', 'ADJ'), ('husband', 'NOUN'), (';', '.'), ('she', 'PRON'), ('openly', 'ADV'), ('brought', 'VERB'), ('her', 'PRON'), ('lover', 'NOUN'), ('into', 'ADP'), ('their', 'PRON'), ('home', 'NOUN'), ('.', '.')], [('Standardized', 'ADJ'), ('achievement', 'NOUN'), ('tests', 'NOUN'), ('are', 'VERB'), ('given', 'VERB'), ('*-1', 'X'), ('about', 'ADP'), ('10', 'NUM'), ('million', 'NUM'), ('times', 'NOUN'), ('a', 'DET'), ('year', 'NOUN'), ('across', 'ADP'), ('the', 'DET'), ('country', 'NOUN'), ('to', 'PRT'), ('students', 'NOUN'), ('generally', 'ADV'), ('from', 'ADP'), ('kindergarten', 'NOUN'), ('through', 'ADP'), ('eighth', 'ADJ'), ('grade', 'NOUN'), ('.', '.')], [('Rep.', 'NOUN'), ('Jerry', 'NOUN'), ('Lewis', 'NOUN'), (',', '.'), ('a', 'DET'), ('conservative', 'ADJ'), ('Californian', 'NOUN'), (',', '.'), ('added', 'VERB'), ('a', 'DET'), ('provision', 'NOUN'), ('of', 'ADP'), ('his', 'PRON'), ('own', 'ADJ'), ('intended', 'VERB'), ('*', 'X'), ('to', 'PRT'), ('assist', 'VERB'), ('Bolivia', 'NOUN'), (',', '.'), ('and', 'CONJ'), ('the', 'DET'), ('Senate', 'NOUN'), ('then', 'ADV'), ('broadened', 'VERB'), ('the', 'DET'), ('list', 'NOUN'), ('further', 'ADV'), ('by', 'ADP'), ('*-1', 'X'), ('including', 'VERB'), ('all', 'DET'), ('countries', 'NOUN'), ('in', 'ADP'), ('the', 'DET'), ('U.S.', 'NOUN'), ('Caribbean', 'NOUN'), ('Basin', 'NOUN'), ('initiate', 'NOUN'), ('as', 'ADV'), ('well', 'ADV'), ('as', 'ADP'), ('the', 'DET'), ('Philippines', 'NOUN'), ('-', '.'), ('*-1', 'X'), ('backed', 'VERB'), ('*', 'X'), ('by', 'ADP'), ('the', 'DET'), ('powerful', 'ADJ'), ('Hawaii', 'NOUN'), ('Democrat', 'NOUN'), ('Sen.', 'NOUN'), ('Daniel', 'NOUN'), ('Inouye', 'NOUN'), ('.', '.')], [('But', 'CONJ'), (',', '.'), ('say', 'VERB'), ('0', 'X'), ('*T*-1', 'X'), ('Mr.', 'NOUN'), ('Dinkins', 'NOUN'), (\"'s\", 'PRT'), ('managers', 'NOUN'), (',', '.'), ('he', 'PRON'), ('did', 'VERB'), ('have', 'VERB'), ('an', 'DET'), ('office', 'NOUN'), ('and', 'CONJ'), ('his', 'PRON'), ('organization', 'NOUN'), ('did', 'VERB'), ('have', 'VERB'), ('members', 'NOUN'), ('.', '.')], [('Mr.', 'NOUN'), ('Rosenblum', 'NOUN'), (',', '.'), ('who', 'PRON'), ('*T*-250', 'X'), ('apparently', 'ADV'), ('has', 'VERB'), ('an', 'DET'), ('unpublished', 'ADJ'), ('phone', 'NOUN'), ('number', 'NOUN'), (',', '.'), ('also', 'ADV'), ('could', 'VERB'), (\"n't\", 'ADV'), ('be', 'VERB'), ('reached', 'VERB'), ('*-156', 'X'), ('.', '.')], [('Money', 'NOUN'), ('is', 'VERB'), ('not', 'ADV'), ('everything', 'NOUN'), (',', '.'), ('but', 'CONJ'), ('it', 'PRON'), ('is', 'VERB'), ('necessary', 'ADJ'), (',', '.'), ('and', 'CONJ'), ('business', 'NOUN'), ('is', 'VERB'), ('not', 'ADV'), ('volunteer', 'NOUN'), ('work', 'NOUN'), ('.', '.')], [('The', 'DET'), ('bonds', 'NOUN'), ('are', 'VERB'), ('insured', 'VERB'), ('and', 'CONJ'), ('triple-A-rated', 'ADJ'), ('.', '.')], [('He', 'PRON'), ('added', 'VERB'), (',', '.'), ('``', '.'), ('There', 'DET'), (\"'s\", 'VERB'), ('nothing', 'NOUN'), ('very', 'ADV'), ('hot', 'ADJ'), ('.', '.'), (\"''\", '.')], [('In', 'ADP'), ('the', 'DET'), ('steel', 'NOUN'), ('division', 'NOUN'), (',', '.'), ('operating', 'NOUN'), ('profit', 'NOUN'), ('dropped', 'VERB'), ('11', 'NUM'), ('%', 'NOUN'), ('to', 'PRT'), ('$', '.'), ('85', 'NUM'), ('million', 'NUM'), ('*U*', 'X'), ('.', '.')], [('What', 'PRON'), ('*T*-234', 'X'), ('will', 'VERB'), ('happen', 'VERB'), ('to', 'PRT'), ('dividend', 'NOUN'), ('growth', 'NOUN'), ('next', 'ADJ'), ('year', 'NOUN'), ('?', '.')], [('The', 'DET'), ('declaration', 'NOUN'), ('by', 'ADP'), ('Economy', 'NOUN'), ('Minister', 'NOUN'), ('Nestor', 'NOUN'), ('Rapanelli', 'NOUN'), ('is', 'VERB'), ('believed', 'VERB'), ('*-1', 'X'), ('to', 'PRT'), ('be', 'VERB'), ('the', 'DET'), ('first', 'ADJ'), ('time', 'NOUN'), ('0', 'X'), ('such', 'ADJ'), ('an', 'DET'), ('action', 'NOUN'), ('has', 'VERB'), ('been', 'VERB'), ('called', 'VERB'), ('for', 'ADP'), ('*-3', 'X'), ('by', 'ADP'), ('an', 'DET'), ('Argentine', 'ADJ'), ('official', 'NOUN'), ('of', 'ADP'), ('such', 'ADJ'), ('stature', 'NOUN'), ('*T*-2', 'X'), ('.', '.')], [('In', 'ADP'), ('1976', 'NUM'), (',', '.'), ('for', 'ADP'), ('example', 'NOUN'), (',', '.'), ('dividends', 'NOUN'), ('on', 'ADP'), ('the', 'DET'), ('stocks', 'NOUN'), ('in', 'ADP'), ('Standard', 'NOUN'), ('&', 'CONJ'), ('Poor', 'NOUN'), (\"'s\", 'PRT'), ('500-stock', 'ADJ'), ('index', 'NOUN'), ('soared', 'VERB'), ('10', 'NUM'), ('%', 'NOUN'), (',', '.'), ('following', 'VERB'), ('much', 'ADV'), ('slower', 'ADJ'), ('growth', 'NOUN'), ('the', 'DET'), ('year', 'NOUN'), ('before', 'ADP'), ('.', '.')], [('They', 'PRON'), ('call', 'VERB'), ('it', 'PRON'), ('``', '.'), ('photographic', 'ADJ'), (\"''\", '.'), ('.', '.')], [('In', 'ADP'), ('the', 'DET'), ('last', 'ADJ'), ('year', 'NOUN'), ('or', 'CONJ'), ('so', 'ADV'), (',', '.'), ('however', 'ADV'), (',', '.'), ('this', 'DET'), ('exclusive', 'ADJ'), ('club', 'NOUN'), ('has', 'VERB'), ('taken', 'VERB'), ('in', 'ADP'), ('a', 'DET'), ('host', 'NOUN'), ('of', 'ADP'), ('flashy', 'ADJ'), ('new', 'ADJ'), ('members', 'NOUN'), ('.', '.')], [('Garbage', 'NOUN'), ('magazine', 'NOUN'), (',', '.'), ('billed', 'VERB'), ('*', 'X'), ('as', 'ADP'), ('``', '.'), ('The', 'NOUN'), ('Practical', 'NOUN'), ('Journal', 'NOUN'), ('for', 'ADP'), ('the', 'DET'), ('Environment', 'NOUN'), (',', '.'), (\"''\", '.'), ('is', 'VERB'), ('about', 'ADP'), ('*-1', 'X'), ('to', 'PRT'), ('find', 'VERB'), ('out', 'PRT'), ('0', 'X'), ('*?*', 'X'), ('.', '.')], [('Michael', 'NOUN'), ('Henderson', 'NOUN'), (',', '.'), ('51-year-old', 'ADJ'), ('group', 'NOUN'), ('chief', 'NOUN'), ('executive', 'NOUN'), ('of', 'ADP'), ('this', 'DET'), ('U.K.', 'NOUN'), ('metals', 'NOUN'), ('and', 'CONJ'), ('industrial', 'ADJ'), ('materials', 'NOUN'), ('maker', 'NOUN'), (',', '.'), ('will', 'VERB'), ('become', 'VERB'), ('chairman', 'NOUN'), ('in', 'ADP'), ('May', 'NOUN'), (',', '.'), ('*-1', 'X'), ('succeeding', 'VERB'), ('Ian', 'NOUN'), ('Butler', 'NOUN'), (',', '.'), ('64', 'NUM'), (',', '.'), ('who', 'PRON'), ('*T*-161', 'X'), ('is', 'VERB'), ('retiring', 'VERB'), ('.', '.')], [('``', '.'), ('The', 'DET'), ('refund', 'NOUN'), ('pool', 'NOUN'), ('...', '.'), ('may', 'VERB'), ('not', 'ADV'), ('be', 'VERB'), ('held', 'VERB'), ('*-1', 'X'), ('hostage', 'NOUN'), ('through', 'ADP'), ('another', 'DET'), ('round', 'NOUN'), ('of', 'ADP'), ('appeals', 'NOUN'), (',', '.'), (\"''\", '.'), ('Judge', 'NOUN'), ('Curry', 'NOUN'), ('said', 'VERB'), ('*T*-2', 'X'), ('.', '.')], [('*-1', 'X'), ('Asked', 'VERB'), ('*-2', 'X'), ('whether', 'ADP'), ('potential', 'ADJ'), ('advertisers', 'NOUN'), ('will', 'VERB'), ('be', 'VERB'), ('scared', 'VERB'), ('*-83', 'X'), ('away', 'ADV'), ('by', 'ADP'), ('the', 'DET'), ('magazine', 'NOUN'), (\"'s\", 'PRT'), ('direct', 'ADJ'), ('policy', 'NOUN'), (',', '.'), ('Ms.', 'NOUN'), ('Poore', 'NOUN'), ('replies', 'VERB'), (':', '.'), ('``', '.'), ('I', 'PRON'), ('do', 'VERB'), (\"n't\", 'ADV'), ('know', 'VERB'), ('and', 'CONJ'), ('I', 'PRON'), ('do', 'VERB'), (\"n't\", 'ADV'), ('care', 'VERB'), ('.', '.')], [('Such', 'ADJ'), ('program', 'NOUN'), ('trades', 'NOUN'), (',', '.'), ('which', 'DET'), ('*T*-70', 'X'), ('can', 'VERB'), ('involve', 'VERB'), ('the', 'DET'), ('purchase', 'NOUN'), ('or', 'CONJ'), ('sale', 'NOUN'), ('of', 'ADP'), ('millions', 'NOUN'), ('of', 'ADP'), ('dollars', 'NOUN'), ('of', 'ADP'), ('stock', 'NOUN'), (',', '.'), ('occur', 'VERB'), ('in', 'ADP'), ('a', 'DET'), ('matter', 'NOUN'), ('of', 'ADP'), ('seconds', 'NOUN'), ('.', '.')], [('Often', 'ADV'), (',', '.'), ('judges', 'NOUN'), ('ease', 'VERB'), ('into', 'ADP'), ('more', 'ADV'), ('lucrative', 'ADJ'), ('private', 'ADJ'), ('practice', 'NOUN'), ('with', 'ADP'), ('little', 'ADJ'), ('fanfare', 'NOUN'), (',', '.'), ('but', 'CONJ'), ('not', 'ADV'), ('federal', 'ADJ'), ('Judge', 'NOUN'), ('Raul', 'NOUN'), ('A.', 'NOUN'), ('Ramirez', 'NOUN'), ('in', 'ADP'), ('Sacramento', 'NOUN'), (',', '.'), ('Calif', 'NOUN'), ('.', '.')], [('Here', 'ADV'), ('are', 'VERB'), ('*T*-1', 'X'), ('the', 'DET'), ('Commerce', 'NOUN'), ('Department', 'NOUN'), (\"'s\", 'PRT'), ('figures', 'NOUN'), ('for', 'ADP'), ('construction', 'NOUN'), ('spending', 'NOUN'), ('in', 'ADP'), ('billions', 'NOUN'), ('of', 'ADP'), ('dollars', 'NOUN'), ('at', 'ADP'), ('seasonally', 'ADV'), ('adjusted', 'VERB'), ('annual', 'ADJ'), ('rates', 'NOUN'), ('.', '.')], [('James', 'NOUN'), ('Mason', 'NOUN'), (',', '.'), ('assistant', 'NOUN'), ('secretary', 'NOUN'), ('for', 'ADP'), ('health', 'NOUN'), (',', '.'), ('said', 'VERB'), ('0', 'X'), ('the', 'DET'), ('ban', 'NOUN'), ('on', 'ADP'), ('federal', 'ADJ'), ('funding', 'NOUN'), ('of', 'ADP'), ('fetal-tissue', 'ADJ'), ('transplant', 'NOUN'), ('research', 'NOUN'), ('``', '.'), ('should', 'VERB'), ('be', 'VERB'), ('continued', 'VERB'), ('*-1', 'X'), ('indefinitely', 'ADV'), ('.', '.'), (\"''\", '.')], [('In', 'ADP'), ('August', 'NOUN'), (',', '.'), ('Temple', 'NOUN'), ('sweetened', 'VERB'), ('the', 'DET'), ('offer', 'NOUN'), ('to', 'PRT'), ('$', '.'), ('63', 'NUM'), ('*U*', 'X'), ('a', 'DET'), ('share', 'NOUN'), (',', '.'), ('or', 'CONJ'), ('$', '.'), ('963', 'NUM'), ('million', 'NUM'), ('*U*', 'X'), ('.', '.')], [('The', 'DET'), ('company', 'NOUN'), ('said', 'VERB'), ('0', 'X'), ('its', 'PRON'), ('industrial', 'ADJ'), ('unit', 'NOUN'), ('continues', 'VERB'), ('*-1', 'X'), ('to', 'PRT'), ('face', 'VERB'), ('margin', 'NOUN'), ('pressures', 'NOUN'), ('and', 'CONJ'), ('lower', 'ADJ'), ('demand', 'NOUN'), ('.', '.')], [('you', 'PRON'), ('will', 'VERB'), ('not', 'ADV'), ('put', 'VERB'), ('the', 'DET'), ('financial', 'ADJ'), ('system', 'NOUN'), ('in', 'ADP'), ('jeopardy', 'NOUN'), ('.', '.'), (\"'\", '.'), (\"''\", '.')], [('Stock-index', 'NOUN'), ('options', 'NOUN'), ('--', '.'), ('Options', 'NOUN'), ('give', 'VERB'), ('holders', 'NOUN'), ('the', 'DET'), ('right', 'NOUN'), ('*RNR*-1', 'X'), (',', '.'), ('but', 'CONJ'), ('not', 'ADV'), ('the', 'DET'), ('obligation', 'NOUN'), ('*RNR*-1', 'X'), (',', '.'), ('*', 'X'), ('to', 'PRT'), ('buy', 'VERB'), ('-LRB-', '.'), ('a', 'DET'), ('call', 'NOUN'), ('-RRB-', '.'), ('or', 'CONJ'), ('sell', 'VERB'), ('-LRB-', '.'), ('a', 'DET'), ('put', 'NOUN'), ('-RRB-', '.'), ('a', 'DET'), ('specified', 'VERB'), ('amount', 'NOUN'), ('of', 'ADP'), ('an', 'DET'), ('underlying', 'VERB'), ('investment', 'NOUN'), ('by', 'ADP'), ('a', 'DET'), ('certin', 'NOUN'), ('date', 'NOUN'), ('at', 'ADP'), ('a', 'DET'), ('preset', 'ADJ'), ('price', 'NOUN'), (',', '.'), ('known', 'VERB'), ('*', 'X'), ('as', 'ADP'), ('the', 'DET'), ('strike', 'NOUN'), ('price', 'NOUN'), ('.', '.')], [('Program', 'NOUN'), ('trading', 'NOUN'), ('money', 'NOUN'), ('managers', 'NOUN'), ('have', 'VERB'), ('gained', 'VERB'), ('control', 'NOUN'), ('over', 'ADP'), ('a', 'DET'), ('big', 'ADJ'), ('chunk', 'NOUN'), ('of', 'ADP'), ('the', 'DET'), ('invested', 'VERB'), ('funds', 'NOUN'), ('in', 'ADP'), ('this', 'DET'), ('country', 'NOUN'), (',', '.'), ('and', 'CONJ'), ('the', 'DET'), ('pressures', 'NOUN'), ('*ICH*-2', 'X'), ('on', 'ADP'), ('such', 'ADJ'), ('money', 'NOUN'), ('managers', 'NOUN'), ('*', 'X'), ('to', 'PRT'), ('produce', 'VERB'), ('consistent', 'ADJ'), ('profits', 'NOUN'), ('has', 'VERB'), ('wedded', 'VERB'), ('them', 'PRON'), ('to', 'PRT'), ('the', 'DET'), ('ability', 'NOUN'), ('*', 'X'), ('to', 'PRT'), ('move', 'VERB'), ('rapidly', 'ADV'), ('in', 'ADP'), ('and', 'CONJ'), ('out', 'ADP'), ('the', 'DET'), ('market', 'NOUN'), ('that', 'ADP'), ('program', 'NOUN'), ('trading', 'NOUN'), ('gives', 'VERB'), ('them', 'PRON'), ('*T*-1', 'X'), ('.', '.')], [('Several', 'ADJ'), ('moves', 'NOUN'), ('were', 'VERB'), ('taken', 'VERB'), ('*-1', 'X'), ('following', 'VERB'), ('the', 'DET'), ('October', 'NOUN'), ('1987', 'NUM'), ('crash', 'NOUN'), ('*', 'X'), ('to', 'PRT'), ('coordinate', 'VERB'), ('--', '.'), ('and', 'CONJ'), ('sometimes', 'ADV'), ('deliberately', 'ADV'), ('disconnect', 'VERB'), ('*PPA*-2', 'X'), ('--', '.'), ('the', 'DET'), ('stock', 'NOUN'), ('and', 'CONJ'), ('futures', 'NOUN'), ('markets', 'NOUN'), ('in', 'ADP'), ('times', 'NOUN'), ('of', 'ADP'), ('heightened', 'VERB'), ('volatility', 'NOUN'), ('.', '.')], [('The', 'DET'), ('recent', 'ADJ'), ('explosion', 'NOUN'), ('of', 'ADP'), ('country', 'NOUN'), ('funds', 'NOUN'), ('mirrors', 'VERB'), ('the', 'DET'), ('``', '.'), ('closed-end', 'ADJ'), ('fund', 'NOUN'), ('mania', 'NOUN'), (\"''\", '.'), ('of', 'ADP'), ('the', 'DET'), ('1920s', 'NOUN'), (',', '.'), ('Mr.', 'NOUN'), ('Foot', 'NOUN'), ('says', 'VERB'), ('0', 'X'), ('*T*-2', 'X'), (',', '.'), ('when', 'ADV'), ('narrowly', 'ADV'), ('focused', 'VERB'), ('funds', 'NOUN'), ('grew', 'VERB'), ('wildly', 'ADV'), ('popular', 'ADJ'), ('*T*-1', 'X'), ('.', '.')], [('And', 'CONJ'), ('*-1', 'X'), ('most', 'ADV'), ('disturbing', 'ADJ'), (',', '.'), ('it', 'PRON'), ('is', 'VERB'), ('educators', 'NOUN'), (',', '.'), ('not', 'ADV'), ('students', 'NOUN'), (',', '.'), ('who', 'PRON'), ('*T*-84', 'X'), ('are', 'VERB'), ('blamed', 'VERB'), ('*-2', 'X'), ('for', 'ADP'), ('much', 'ADV'), ('of', 'ADP'), ('the', 'DET'), ('wrongdoing', 'NOUN'), ('.', '.')]]\n"
     ]
    }
   ],
   "source": [
    "random.seed(1234)\n",
    "train_set, test_set = train_test_split(nltk_data,test_size=0.05)\n",
    "\n",
    "print(len(train_set))\n",
    "print(len(test_set))\n",
    "print(train_set[:40])"
   ]
  },
  {
   "cell_type": "code",
   "execution_count": 9,
   "metadata": {},
   "outputs": [
    {
     "data": {
      "text/plain": [
       "95835"
      ]
     },
     "execution_count": 9,
     "metadata": {},
     "output_type": "execute_result"
    }
   ],
   "source": [
    "# Getting list of tagged words\n",
    "train_tagged_words = [tup for sent in train_set for tup in sent]\n",
    "len(train_tagged_words)"
   ]
  },
  {
   "cell_type": "code",
   "execution_count": 10,
   "metadata": {},
   "outputs": [
    {
     "data": {
      "text/plain": [
       "['The',\n",
       " 'loudest',\n",
       " 'of',\n",
       " 'these',\n",
       " 'reformers',\n",
       " 'are',\n",
       " 'money',\n",
       " 'managers',\n",
       " 'who',\n",
       " '*T*-77']"
      ]
     },
     "execution_count": 10,
     "metadata": {},
     "output_type": "execute_result"
    }
   ],
   "source": [
    "# tokens \n",
    "tokens = [pair[0] for pair in train_tagged_words]\n",
    "tokens[:10]"
   ]
  },
  {
   "cell_type": "code",
   "execution_count": 11,
   "metadata": {},
   "outputs": [
    {
     "name": "stdout",
     "output_type": "stream",
     "text": [
      "12107\n"
     ]
    }
   ],
   "source": [
    "# vocabulary\n",
    "V = set(tokens)\n",
    "print(len(V))"
   ]
  },
  {
   "cell_type": "code",
   "execution_count": 12,
   "metadata": {},
   "outputs": [
    {
     "name": "stdout",
     "output_type": "stream",
     "text": [
      "12\n",
      "{'ADV', 'NUM', 'DET', 'ADJ', 'NOUN', '.', 'ADP', 'CONJ', 'PRT', 'VERB', 'X', 'PRON'}\n"
     ]
    }
   ],
   "source": [
    "# number of tags\n",
    "T = set([pair[1] for pair in train_tagged_words])\n",
    "print(len(T))\n",
    "print(T)"
   ]
  },
  {
   "cell_type": "markdown",
   "metadata": {},
   "source": [
    "### Build the vanilla Viterbi based POS tagger"
   ]
  },
  {
   "cell_type": "code",
   "execution_count": 13,
   "metadata": {},
   "outputs": [],
   "source": [
    "# computing P(w/t) and storing in T x V matrix\n",
    "t = len(T)\n",
    "v = len(V)\n",
    "w_given_t = np.zeros((t, v))"
   ]
  },
  {
   "cell_type": "code",
   "execution_count": 14,
   "metadata": {},
   "outputs": [],
   "source": [
    "# compute word given tag: Emission Probability\n",
    "def word_given_tag(word, tag, train_bag = train_tagged_words):\n",
    "    tag_list = [pair for pair in train_bag if pair[1]==tag]\n",
    "    count_tag = len(tag_list)\n",
    "    w_given_tag_list = [pair[0] for pair in tag_list if pair[0]==word]\n",
    "    count_w_given_tag = len(w_given_tag_list)\n",
    "    \n",
    "    return (count_w_given_tag, count_tag)"
   ]
  },
  {
   "cell_type": "code",
   "execution_count": 15,
   "metadata": {},
   "outputs": [],
   "source": [
    "# compute tag given tag: tag2(t2) given tag1 (t1), i.e. Transition Probability\n",
    "\n",
    "def t2_given_t1(t2, t1, train_bag = train_tagged_words):\n",
    "    tags = [pair[1] for pair in train_bag]\n",
    "    count_t1 = len([t for t in tags if t==t1])\n",
    "    count_t2_t1 = 0\n",
    "    for index in range(len(tags)-1):\n",
    "        if tags[index]==t1 and tags[index+1] == t2:\n",
    "            count_t2_t1 += 1\n",
    "    return (count_t2_t1, count_t1)"
   ]
  },
  {
   "cell_type": "code",
   "execution_count": 16,
   "metadata": {},
   "outputs": [
    {
     "data": {
      "text/plain": [
       "array([[7.91318864e-02, 3.17195319e-02, 6.91151917e-02, 1.30217031e-01,\n",
       "        3.07178628e-02, 1.37562603e-01, 1.19532555e-01, 7.01168599e-03,\n",
       "        1.46911517e-02, 3.41569275e-01, 2.37061772e-02, 1.50250420e-02],\n",
       "       [3.28849023e-03, 1.85052320e-01, 3.28849023e-03, 3.31838578e-02,\n",
       "        3.52466375e-01, 1.14200301e-01, 3.52765322e-02, 1.43497754e-02,\n",
       "        2.69058291e-02, 1.76382661e-02, 2.12855011e-01, 1.49476831e-03],\n",
       "       [1.23857623e-02, 2.17652712e-02, 5.53150568e-03, 2.06108704e-01,\n",
       "        6.35642111e-01, 1.79172680e-02, 9.62000992e-03, 4.81000490e-04,\n",
       "        2.40500245e-04, 4.01635394e-02, 4.64165471e-02, 3.72775365e-03],\n",
       "       [4.58490243e-03, 2.09595542e-02, 4.58490243e-03, 6.54986054e-02,\n",
       "        7.00835109e-01, 6.41886368e-02, 7.74521008e-02, 1.71933845e-02,\n",
       "        1.09710172e-02, 1.19534964e-02, 2.11233012e-02, 6.54986070e-04],\n",
       "       [1.69077720e-02, 9.36486572e-03, 1.33002950e-02, 1.20249242e-02,\n",
       "        2.64475465e-01, 2.40717128e-01, 1.76146924e-01, 4.21601124e-02,\n",
       "        4.40185107e-02, 1.46959156e-01, 2.91513316e-02, 4.77353064e-03],\n",
       "       [5.26456907e-02, 8.08008611e-02, 1.73936367e-01, 4.43332158e-02,\n",
       "        2.21040398e-01, 9.40293148e-02, 9.15266350e-02, 5.84554896e-02,\n",
       "        2.50268145e-03, 8.78619924e-02, 2.69038249e-02, 6.58741519e-02],\n",
       "       [1.33418720e-02, 6.13726117e-02, 3.23620439e-01, 1.07802324e-01,\n",
       "        3.21805954e-01, 4.05592918e-02, 1.66506562e-02, 8.53879843e-04,\n",
       "        1.49428973e-03, 8.11185781e-03, 3.53292786e-02, 6.90575317e-02],\n",
       "       [5.48072457e-02, 4.27310728e-02, 1.20297261e-01, 1.17974922e-01,\n",
       "        3.47886682e-01, 3.62285189e-02, 5.10914996e-02, 4.64468176e-04,\n",
       "        4.64468170e-03, 1.55132368e-01, 8.82489514e-03, 5.99163957e-02],\n",
       "       [9.76880454e-03, 5.69846965e-02, 1.02572449e-01, 8.53142291e-02,\n",
       "        2.46825144e-01, 4.20058630e-02, 2.05144901e-02, 1.95376109e-03,\n",
       "        1.95376109e-03, 3.99869740e-01, 1.36763267e-02, 1.85607299e-02],\n",
       "       [8.08424950e-02, 2.18367670e-02, 1.34660065e-01, 6.56651706e-02,\n",
       "        1.09416135e-01, 3.52330804e-02, 9.20706242e-02, 5.42047387e-03,\n",
       "        3.15936208e-02, 1.69738263e-01, 2.18212798e-01, 3.53105143e-02],\n",
       "       [2.53044441e-02, 2.68859719e-03, 5.44045530e-02, 1.62897352e-02,\n",
       "        6.26285002e-02, 1.65269643e-01, 1.42970115e-01, 1.02799302e-02,\n",
       "        1.83615372e-01, 2.06231222e-01, 7.52807185e-02, 5.50371669e-02],\n",
       "       [3.29375714e-02, 7.65990047e-03, 8.80888570e-03, 7.23860562e-02,\n",
       "        2.08349288e-01, 4.13634628e-02, 2.29797009e-02, 5.36193047e-03,\n",
       "        1.26388352e-02, 4.88318652e-01, 9.11528170e-02, 8.04289524e-03]],\n",
       "      dtype=float32)"
      ]
     },
     "execution_count": 16,
     "metadata": {},
     "output_type": "execute_result"
    }
   ],
   "source": [
    "tags_matrix = np.zeros((len(T), len(T)), dtype='float32')\n",
    "for i, t1 in enumerate(list(T)):\n",
    "    for j, t2 in enumerate(list(T)): \n",
    "        tags_matrix[i, j] = t2_given_t1(t2, t1)[0]/t2_given_t1(t2, t1)[1]\n",
    "\n",
    "tags_matrix"
   ]
  },
  {
   "cell_type": "code",
   "execution_count": 17,
   "metadata": {},
   "outputs": [
    {
     "data": {
      "text/html": [
       "<div>\n",
       "<style scoped>\n",
       "    .dataframe tbody tr th:only-of-type {\n",
       "        vertical-align: middle;\n",
       "    }\n",
       "\n",
       "    .dataframe tbody tr th {\n",
       "        vertical-align: top;\n",
       "    }\n",
       "\n",
       "    .dataframe thead th {\n",
       "        text-align: right;\n",
       "    }\n",
       "</style>\n",
       "<table border=\"1\" class=\"dataframe\">\n",
       "  <thead>\n",
       "    <tr style=\"text-align: right;\">\n",
       "      <th></th>\n",
       "      <th>ADV</th>\n",
       "      <th>NUM</th>\n",
       "      <th>DET</th>\n",
       "      <th>ADJ</th>\n",
       "      <th>NOUN</th>\n",
       "      <th>.</th>\n",
       "      <th>ADP</th>\n",
       "      <th>CONJ</th>\n",
       "      <th>PRT</th>\n",
       "      <th>VERB</th>\n",
       "      <th>X</th>\n",
       "      <th>PRON</th>\n",
       "    </tr>\n",
       "  </thead>\n",
       "  <tbody>\n",
       "    <tr>\n",
       "      <th>ADV</th>\n",
       "      <td>0.079132</td>\n",
       "      <td>0.031720</td>\n",
       "      <td>0.069115</td>\n",
       "      <td>0.130217</td>\n",
       "      <td>0.030718</td>\n",
       "      <td>0.137563</td>\n",
       "      <td>0.119533</td>\n",
       "      <td>0.007012</td>\n",
       "      <td>0.014691</td>\n",
       "      <td>0.341569</td>\n",
       "      <td>0.023706</td>\n",
       "      <td>0.015025</td>\n",
       "    </tr>\n",
       "    <tr>\n",
       "      <th>NUM</th>\n",
       "      <td>0.003288</td>\n",
       "      <td>0.185052</td>\n",
       "      <td>0.003288</td>\n",
       "      <td>0.033184</td>\n",
       "      <td>0.352466</td>\n",
       "      <td>0.114200</td>\n",
       "      <td>0.035277</td>\n",
       "      <td>0.014350</td>\n",
       "      <td>0.026906</td>\n",
       "      <td>0.017638</td>\n",
       "      <td>0.212855</td>\n",
       "      <td>0.001495</td>\n",
       "    </tr>\n",
       "    <tr>\n",
       "      <th>DET</th>\n",
       "      <td>0.012386</td>\n",
       "      <td>0.021765</td>\n",
       "      <td>0.005532</td>\n",
       "      <td>0.206109</td>\n",
       "      <td>0.635642</td>\n",
       "      <td>0.017917</td>\n",
       "      <td>0.009620</td>\n",
       "      <td>0.000481</td>\n",
       "      <td>0.000241</td>\n",
       "      <td>0.040164</td>\n",
       "      <td>0.046417</td>\n",
       "      <td>0.003728</td>\n",
       "    </tr>\n",
       "    <tr>\n",
       "      <th>ADJ</th>\n",
       "      <td>0.004585</td>\n",
       "      <td>0.020960</td>\n",
       "      <td>0.004585</td>\n",
       "      <td>0.065499</td>\n",
       "      <td>0.700835</td>\n",
       "      <td>0.064189</td>\n",
       "      <td>0.077452</td>\n",
       "      <td>0.017193</td>\n",
       "      <td>0.010971</td>\n",
       "      <td>0.011953</td>\n",
       "      <td>0.021123</td>\n",
       "      <td>0.000655</td>\n",
       "    </tr>\n",
       "    <tr>\n",
       "      <th>NOUN</th>\n",
       "      <td>0.016908</td>\n",
       "      <td>0.009365</td>\n",
       "      <td>0.013300</td>\n",
       "      <td>0.012025</td>\n",
       "      <td>0.264475</td>\n",
       "      <td>0.240717</td>\n",
       "      <td>0.176147</td>\n",
       "      <td>0.042160</td>\n",
       "      <td>0.044019</td>\n",
       "      <td>0.146959</td>\n",
       "      <td>0.029151</td>\n",
       "      <td>0.004774</td>\n",
       "    </tr>\n",
       "    <tr>\n",
       "      <th>.</th>\n",
       "      <td>0.052646</td>\n",
       "      <td>0.080801</td>\n",
       "      <td>0.173936</td>\n",
       "      <td>0.044333</td>\n",
       "      <td>0.221040</td>\n",
       "      <td>0.094029</td>\n",
       "      <td>0.091527</td>\n",
       "      <td>0.058455</td>\n",
       "      <td>0.002503</td>\n",
       "      <td>0.087862</td>\n",
       "      <td>0.026904</td>\n",
       "      <td>0.065874</td>\n",
       "    </tr>\n",
       "    <tr>\n",
       "      <th>ADP</th>\n",
       "      <td>0.013342</td>\n",
       "      <td>0.061373</td>\n",
       "      <td>0.323620</td>\n",
       "      <td>0.107802</td>\n",
       "      <td>0.321806</td>\n",
       "      <td>0.040559</td>\n",
       "      <td>0.016651</td>\n",
       "      <td>0.000854</td>\n",
       "      <td>0.001494</td>\n",
       "      <td>0.008112</td>\n",
       "      <td>0.035329</td>\n",
       "      <td>0.069058</td>\n",
       "    </tr>\n",
       "    <tr>\n",
       "      <th>CONJ</th>\n",
       "      <td>0.054807</td>\n",
       "      <td>0.042731</td>\n",
       "      <td>0.120297</td>\n",
       "      <td>0.117975</td>\n",
       "      <td>0.347887</td>\n",
       "      <td>0.036229</td>\n",
       "      <td>0.051091</td>\n",
       "      <td>0.000464</td>\n",
       "      <td>0.004645</td>\n",
       "      <td>0.155132</td>\n",
       "      <td>0.008825</td>\n",
       "      <td>0.059916</td>\n",
       "    </tr>\n",
       "    <tr>\n",
       "      <th>PRT</th>\n",
       "      <td>0.009769</td>\n",
       "      <td>0.056985</td>\n",
       "      <td>0.102572</td>\n",
       "      <td>0.085314</td>\n",
       "      <td>0.246825</td>\n",
       "      <td>0.042006</td>\n",
       "      <td>0.020514</td>\n",
       "      <td>0.001954</td>\n",
       "      <td>0.001954</td>\n",
       "      <td>0.399870</td>\n",
       "      <td>0.013676</td>\n",
       "      <td>0.018561</td>\n",
       "    </tr>\n",
       "    <tr>\n",
       "      <th>VERB</th>\n",
       "      <td>0.080842</td>\n",
       "      <td>0.021837</td>\n",
       "      <td>0.134660</td>\n",
       "      <td>0.065665</td>\n",
       "      <td>0.109416</td>\n",
       "      <td>0.035233</td>\n",
       "      <td>0.092071</td>\n",
       "      <td>0.005420</td>\n",
       "      <td>0.031594</td>\n",
       "      <td>0.169738</td>\n",
       "      <td>0.218213</td>\n",
       "      <td>0.035311</td>\n",
       "    </tr>\n",
       "    <tr>\n",
       "      <th>X</th>\n",
       "      <td>0.025304</td>\n",
       "      <td>0.002689</td>\n",
       "      <td>0.054405</td>\n",
       "      <td>0.016290</td>\n",
       "      <td>0.062629</td>\n",
       "      <td>0.165270</td>\n",
       "      <td>0.142970</td>\n",
       "      <td>0.010280</td>\n",
       "      <td>0.183615</td>\n",
       "      <td>0.206231</td>\n",
       "      <td>0.075281</td>\n",
       "      <td>0.055037</td>\n",
       "    </tr>\n",
       "    <tr>\n",
       "      <th>PRON</th>\n",
       "      <td>0.032938</td>\n",
       "      <td>0.007660</td>\n",
       "      <td>0.008809</td>\n",
       "      <td>0.072386</td>\n",
       "      <td>0.208349</td>\n",
       "      <td>0.041363</td>\n",
       "      <td>0.022980</td>\n",
       "      <td>0.005362</td>\n",
       "      <td>0.012639</td>\n",
       "      <td>0.488319</td>\n",
       "      <td>0.091153</td>\n",
       "      <td>0.008043</td>\n",
       "    </tr>\n",
       "  </tbody>\n",
       "</table>\n",
       "</div>"
      ],
      "text/plain": [
       "           ADV       NUM       DET       ADJ      NOUN         .       ADP  \\\n",
       "ADV   0.079132  0.031720  0.069115  0.130217  0.030718  0.137563  0.119533   \n",
       "NUM   0.003288  0.185052  0.003288  0.033184  0.352466  0.114200  0.035277   \n",
       "DET   0.012386  0.021765  0.005532  0.206109  0.635642  0.017917  0.009620   \n",
       "ADJ   0.004585  0.020960  0.004585  0.065499  0.700835  0.064189  0.077452   \n",
       "NOUN  0.016908  0.009365  0.013300  0.012025  0.264475  0.240717  0.176147   \n",
       ".     0.052646  0.080801  0.173936  0.044333  0.221040  0.094029  0.091527   \n",
       "ADP   0.013342  0.061373  0.323620  0.107802  0.321806  0.040559  0.016651   \n",
       "CONJ  0.054807  0.042731  0.120297  0.117975  0.347887  0.036229  0.051091   \n",
       "PRT   0.009769  0.056985  0.102572  0.085314  0.246825  0.042006  0.020514   \n",
       "VERB  0.080842  0.021837  0.134660  0.065665  0.109416  0.035233  0.092071   \n",
       "X     0.025304  0.002689  0.054405  0.016290  0.062629  0.165270  0.142970   \n",
       "PRON  0.032938  0.007660  0.008809  0.072386  0.208349  0.041363  0.022980   \n",
       "\n",
       "          CONJ       PRT      VERB         X      PRON  \n",
       "ADV   0.007012  0.014691  0.341569  0.023706  0.015025  \n",
       "NUM   0.014350  0.026906  0.017638  0.212855  0.001495  \n",
       "DET   0.000481  0.000241  0.040164  0.046417  0.003728  \n",
       "ADJ   0.017193  0.010971  0.011953  0.021123  0.000655  \n",
       "NOUN  0.042160  0.044019  0.146959  0.029151  0.004774  \n",
       ".     0.058455  0.002503  0.087862  0.026904  0.065874  \n",
       "ADP   0.000854  0.001494  0.008112  0.035329  0.069058  \n",
       "CONJ  0.000464  0.004645  0.155132  0.008825  0.059916  \n",
       "PRT   0.001954  0.001954  0.399870  0.013676  0.018561  \n",
       "VERB  0.005420  0.031594  0.169738  0.218213  0.035311  \n",
       "X     0.010280  0.183615  0.206231  0.075281  0.055037  \n",
       "PRON  0.005362  0.012639  0.488319  0.091153  0.008043  "
      ]
     },
     "execution_count": 17,
     "metadata": {},
     "output_type": "execute_result"
    }
   ],
   "source": [
    "tags_df = pd.DataFrame(tags_matrix, columns = list(T), index=list(T))\n",
    "tags_df"
   ]
  },
  {
   "cell_type": "code",
   "execution_count": 18,
   "metadata": {},
   "outputs": [
    {
     "data": {
      "text/plain": [
       "ADV     0.052646\n",
       "NUM     0.080801\n",
       "DET     0.173936\n",
       "ADJ     0.044333\n",
       "NOUN    0.221040\n",
       ".       0.094029\n",
       "ADP     0.091527\n",
       "CONJ    0.058455\n",
       "PRT     0.002503\n",
       "VERB    0.087862\n",
       "X       0.026904\n",
       "PRON    0.065874\n",
       "Name: ., dtype: float32"
      ]
     },
     "execution_count": 18,
     "metadata": {},
     "output_type": "execute_result"
    }
   ],
   "source": [
    "tags_df.loc['.', :]"
   ]
  },
  {
   "cell_type": "code",
   "execution_count": 19,
   "metadata": {},
   "outputs": [
    {
     "data": {
      "image/png": "[encoded data removed]",
      "text/plain": [
       "<Figure size 1296x864 with 2 Axes>"
      ]
     },
     "metadata": {
      "needs_background": "light"
     },
     "output_type": "display_data"
    }
   ],
   "source": [
    "# heatmap of tags matrix\n",
    "# T(i, j) means P(tag j given tag i)\n",
    "plt.figure(figsize=(18, 12))\n",
    "sns.heatmap(tags_df)\n",
    "plt.show()"
   ]
  },
  {
   "cell_type": "code",
   "execution_count": 20,
   "metadata": {},
   "outputs": [
    {
     "data": {
      "image/png": "[encoded data removed]",
      "text/plain": [
       "<Figure size 1296x864 with 2 Axes>"
      ]
     },
     "metadata": {
      "needs_background": "light"
     },
     "output_type": "display_data"
    }
   ],
   "source": [
    "# frequent tags\n",
    "# filter the df to get P(t2, t1) > 0.25\n",
    "tags_frequent = tags_df[tags_df>0.25]\n",
    "plt.figure(figsize=(18, 12))\n",
    "sns.heatmap(tags_frequent)\n",
    "plt.show()"
   ]
  },
  {
   "cell_type": "code",
   "execution_count": 21,
   "metadata": {},
   "outputs": [
    {
     "data": {
      "text/plain": [
       "95835"
      ]
     },
     "execution_count": 21,
     "metadata": {},
     "output_type": "execute_result"
    }
   ],
   "source": [
    "len(train_tagged_words)"
   ]
  },
  {
   "cell_type": "code",
   "execution_count": 22,
   "metadata": {},
   "outputs": [],
   "source": [
    "# Viterbi Heuristic\n",
    "def Viterbi(words, train_bag = train_tagged_words):\n",
    "    state = []\n",
    "    T = list(set([pair[1] for pair in train_bag]))\n",
    "    \n",
    "    for key, word in enumerate(words):\n",
    "        #initialise list of probability column for a given observation\n",
    "        p = [] \n",
    "        for tag in T:\n",
    "            if key == 0:\n",
    "                transition_p = tags_df.loc['.', tag]\n",
    "            else:\n",
    "                transition_p = tags_df.loc[state[-1], tag]\n",
    "                \n",
    "            # compute emission and state probabilities\n",
    "            emission_p = word_given_tag(words[key], tag)[0]/word_given_tag(words[key], tag)[1]\n",
    "            state_probability = emission_p * transition_p    \n",
    "            p.append(state_probability)\n",
    "            \n",
    "        pmax = max(p)\n",
    "        # getting state for which probability is maximum\n",
    "        state_max = T[p.index(pmax)] \n",
    "        state.append(state_max)\n",
    "    return list(zip(words, state))"
   ]
  },
  {
   "cell_type": "code",
   "execution_count": 23,
   "metadata": {},
   "outputs": [
    {
     "data": {
      "text/plain": [
       "[[('In', 'ADP'),\n",
       "  ('addition', 'NOUN'),\n",
       "  (',', '.'),\n",
       "  ('a', 'DET'),\n",
       "  ('big', 'ADJ'),\n",
       "  ('loan', 'NOUN'),\n",
       "  ('that', 'ADP'),\n",
       "  ('First', 'NOUN'),\n",
       "  ('Boston', 'NOUN'),\n",
       "  ('made', 'VERB'),\n",
       "  ('*T*-2', 'X'),\n",
       "  ('to', 'PRT'),\n",
       "  ('Ohio', 'NOUN'),\n",
       "  ('Mattress', 'NOUN'),\n",
       "  ('Co', 'NOUN'),\n",
       "  ('.', '.'),\n",
       "  ('was', 'VERB'),\n",
       "  (\"n't\", 'ADV'),\n",
       "  ('repaid', 'VERB'),\n",
       "  ('on', 'ADP'),\n",
       "  ('time', 'NOUN'),\n",
       "  ('when', 'ADV'),\n",
       "  ('its', 'PRON'),\n",
       "  ('$', '.'),\n",
       "  ('450', 'NUM'),\n",
       "  ('million', 'NUM'),\n",
       "  ('*U*', 'X'),\n",
       "  ('junk', 'NOUN'),\n",
       "  ('financing', 'NOUN'),\n",
       "  ('for', 'ADP'),\n",
       "  ('a', 'DET'),\n",
       "  ('buy-out', 'NOUN'),\n",
       "  ('of', 'ADP'),\n",
       "  ('the', 'DET'),\n",
       "  ('bedding', 'NOUN'),\n",
       "  ('company', 'NOUN'),\n",
       "  ('was', 'VERB'),\n",
       "  ('withdrawn', 'VERB'),\n",
       "  ('*-1', 'X'),\n",
       "  ('*T*-3', 'X'),\n",
       "  ('.', '.')],\n",
       " [('Douglas', 'NOUN'),\n",
       "  ('Madison', 'NOUN'),\n",
       "  (',', '.'),\n",
       "  ('a', 'DET'),\n",
       "  ('corporate', 'ADJ'),\n",
       "  ('trader', 'NOUN'),\n",
       "  ('with', 'ADP'),\n",
       "  ('Bank', 'NOUN'),\n",
       "  ('of', 'ADP'),\n",
       "  ('America', 'NOUN'),\n",
       "  ('in', 'ADP'),\n",
       "  ('Los', 'NOUN'),\n",
       "  ('Angeles', 'NOUN'),\n",
       "  (',', '.'),\n",
       "  ('traced', 'VERB'),\n",
       "  ('the', 'DET'),\n",
       "  ('dollar', 'NOUN'),\n",
       "  (\"'s\", 'PRT'),\n",
       "  ('recent', 'ADJ'),\n",
       "  ('solid', 'ADJ'),\n",
       "  ('performance', 'NOUN'),\n",
       "  ('against', 'ADP'),\n",
       "  ('the', 'DET'),\n",
       "  ('yen', 'NOUN'),\n",
       "  ('to', 'PRT'),\n",
       "  ('purchases', 'NOUN'),\n",
       "  ('of', 'ADP'),\n",
       "  ('securities', 'NOUN'),\n",
       "  ('by', 'ADP'),\n",
       "  ('Japanese', 'ADJ'),\n",
       "  ('insurance', 'NOUN'),\n",
       "  ('companies', 'NOUN'),\n",
       "  ('and', 'CONJ'),\n",
       "  ('trust', 'NOUN'),\n",
       "  ('banks', 'NOUN'),\n",
       "  ('and', 'CONJ'),\n",
       "  ('the', 'DET'),\n",
       "  ('sense', 'NOUN'),\n",
       "  ('that', 'ADP'),\n",
       "  ('another', 'DET'),\n",
       "  ('wave', 'NOUN'),\n",
       "  ('of', 'ADP'),\n",
       "  ('investment', 'NOUN'),\n",
       "  ('is', 'VERB'),\n",
       "  ('waiting', 'VERB'),\n",
       "  ('in', 'ADP'),\n",
       "  ('the', 'DET'),\n",
       "  ('wings', 'NOUN'),\n",
       "  ('.', '.')],\n",
       " [('Second', 'ADJ'),\n",
       "  (',', '.'),\n",
       "  ('they', 'PRON'),\n",
       "  ('channel', 'VERB'),\n",
       "  ('monthly', 'ADJ'),\n",
       "  ('mortgage', 'NOUN'),\n",
       "  ('payments', 'NOUN'),\n",
       "  ('into', 'ADP'),\n",
       "  ('semiannual', 'ADJ'),\n",
       "  ('payments', 'NOUN'),\n",
       "  (',', '.'),\n",
       "  ('*-1', 'X'),\n",
       "  ('reducing', 'VERB'),\n",
       "  ('the', 'DET'),\n",
       "  ('administrative', 'ADJ'),\n",
       "  ('burden', 'NOUN'),\n",
       "  ('on', 'ADP'),\n",
       "  ('investors', 'NOUN'),\n",
       "  ('.', '.')],\n",
       " [('If', 'ADP'),\n",
       "  ('a', 'DET'),\n",
       "  ('competitor', 'NOUN'),\n",
       "  ('enters', 'VERB'),\n",
       "  ('the', 'DET'),\n",
       "  ('game', 'NOUN'),\n",
       "  (',', '.'),\n",
       "  ('for', 'ADP'),\n",
       "  ('example', 'NOUN'),\n",
       "  (',', '.'),\n",
       "  ('Mr.', 'NOUN'),\n",
       "  ('Hahn', 'NOUN'),\n",
       "  ('could', 'VERB'),\n",
       "  ('face', 'VERB'),\n",
       "  ('the', 'DET'),\n",
       "  ('dilemma', 'NOUN'),\n",
       "  ('of', 'ADP'),\n",
       "  ('*', 'X'),\n",
       "  ('paying', 'VERB'),\n",
       "  ('a', 'DET'),\n",
       "  ('premium', 'NOUN'),\n",
       "  ('for', 'ADP'),\n",
       "  ('Nekoosa', 'NOUN'),\n",
       "  ('or', 'CONJ'),\n",
       "  ('seeing', 'VERB'),\n",
       "  ('the', 'DET'),\n",
       "  ('company', 'NOUN'),\n",
       "  ('fall', 'NOUN'),\n",
       "  ('into', 'ADP'),\n",
       "  ('the', 'DET'),\n",
       "  ('arms', 'NOUN'),\n",
       "  ('of', 'ADP'),\n",
       "  ('a', 'DET'),\n",
       "  ('rival', 'NOUN'),\n",
       "  ('.', '.')],\n",
       " [('Mexico', 'NOUN'),\n",
       "  (',', '.'),\n",
       "  ('which', 'DET'),\n",
       "  ('*T*-1', 'X'),\n",
       "  ('is', 'VERB'),\n",
       "  ('normally', 'ADV'),\n",
       "  ('a', 'DET'),\n",
       "  ('sugar', 'NOUN'),\n",
       "  ('exporter', 'NOUN'),\n",
       "  (',', '.'),\n",
       "  ('has', 'VERB'),\n",
       "  ('had', 'VERB'),\n",
       "  ('production', 'NOUN'),\n",
       "  ('problems', 'NOUN'),\n",
       "  ('in', 'ADP'),\n",
       "  ('the', 'DET'),\n",
       "  ('past', 'ADJ'),\n",
       "  ('two', 'NUM'),\n",
       "  ('years', 'NOUN'),\n",
       "  (',', '.'),\n",
       "  ('analysts', 'NOUN'),\n",
       "  ('said', 'VERB'),\n",
       "  ('0', 'X'),\n",
       "  ('*T*-2', 'X'),\n",
       "  ('.', '.')]]"
      ]
     },
     "execution_count": 23,
     "metadata": {},
     "output_type": "execute_result"
    }
   ],
   "source": [
    "# Running on entire test dataset would take more than 3-4hrs. \n",
    "# Let's test our Viterbi algorithm on a few sample sentences of test dataset\n",
    "\n",
    "random.seed(1234)\n",
    "\n",
    "# choose random 5 sents\n",
    "rndom = [random.randint(1,len(test_set)) for x in range(5)]\n",
    "\n",
    "# list of sents\n",
    "test_run = [test_set[i] for i in rndom]\n",
    "\n",
    "# list of tagged words\n",
    "test_run_base = [tup for sent in test_run for tup in sent]\n",
    "\n",
    "# list of untagged words\n",
    "test_tagged_words = [tup[0] for sent in test_run for tup in sent]\n",
    "test_run"
   ]
  },
  {
   "cell_type": "code",
   "execution_count": 24,
   "metadata": {},
   "outputs": [
    {
     "name": "stdout",
     "output_type": "stream",
     "text": [
      "Time taken in seconds:  72.32069134712219\n",
      "[('In', 'ADP'), ('addition', 'NOUN'), (',', '.'), ('a', 'DET'), ('big', 'ADJ'), ('loan', 'NOUN'), ('that', 'ADP'), ('First', 'NOUN'), ('Boston', 'NOUN'), ('made', 'VERB'), ('*T*-2', 'X'), ('to', 'PRT'), ('Ohio', 'NOUN'), ('Mattress', 'ADV'), ('Co', 'NOUN'), ('.', '.'), ('was', 'VERB'), (\"n't\", 'ADV'), ('repaid', 'VERB'), ('on', 'ADP'), ('time', 'NOUN'), ('when', 'ADV'), ('its', 'PRON'), ('$', '.'), ('450', 'NUM'), ('million', 'NUM'), ('*U*', 'X'), ('junk', 'NOUN'), ('financing', 'NOUN'), ('for', 'ADP'), ('a', 'DET'), ('buy-out', 'NOUN'), ('of', 'ADP'), ('the', 'DET'), ('bedding', 'ADV'), ('company', 'NOUN'), ('was', 'VERB'), ('withdrawn', 'VERB'), ('*-1', 'X'), ('*T*-3', 'X'), ('.', '.'), ('Douglas', 'NOUN'), ('Madison', 'NOUN'), (',', '.'), ('a', 'DET'), ('corporate', 'ADJ'), ('trader', 'NOUN'), ('with', 'ADP'), ('Bank', 'NOUN'), ('of', 'ADP'), ('America', 'NOUN'), ('in', 'ADP'), ('Los', 'NOUN'), ('Angeles', 'NOUN'), (',', '.'), ('traced', 'ADV'), ('the', 'DET'), ('dollar', 'NOUN'), (\"'s\", 'PRT'), ('recent', 'ADJ'), ('solid', 'ADJ'), ('performance', 'NOUN'), ('against', 'ADP'), ('the', 'DET'), ('yen', 'NOUN'), ('to', 'PRT'), ('purchases', 'NOUN'), ('of', 'ADP'), ('securities', 'NOUN'), ('by', 'ADP'), ('Japanese', 'ADJ'), ('insurance', 'NOUN'), ('companies', 'NOUN'), ('and', 'CONJ'), ('trust', 'NOUN'), ('banks', 'NOUN'), ('and', 'CONJ'), ('the', 'DET'), ('sense', 'NOUN'), ('that', 'ADP'), ('another', 'DET'), ('wave', 'ADV'), ('of', 'ADP'), ('investment', 'NOUN'), ('is', 'VERB'), ('waiting', 'VERB'), ('in', 'ADP'), ('the', 'DET'), ('wings', 'NOUN'), ('.', '.'), ('Second', 'NOUN'), (',', '.'), ('they', 'PRON'), ('channel', 'ADV'), ('monthly', 'ADJ'), ('mortgage', 'NOUN'), ('payments', 'NOUN'), ('into', 'ADP'), ('semiannual', 'ADJ'), ('payments', 'NOUN'), (',', '.'), ('*-1', 'X'), ('reducing', 'VERB'), ('the', 'DET'), ('administrative', 'ADJ'), ('burden', 'ADV'), ('on', 'ADP'), ('investors', 'NOUN'), ('.', '.'), ('If', 'ADP'), ('a', 'DET'), ('competitor', 'NOUN'), ('enters', 'VERB'), ('the', 'DET'), ('game', 'NOUN'), (',', '.'), ('for', 'ADP'), ('example', 'NOUN'), (',', '.'), ('Mr.', 'NOUN'), ('Hahn', 'NOUN'), ('could', 'VERB'), ('face', 'VERB'), ('the', 'DET'), ('dilemma', 'ADV'), ('of', 'ADP'), ('*', 'X'), ('paying', 'VERB'), ('a', 'DET'), ('premium', 'NOUN'), ('for', 'ADP'), ('Nekoosa', 'NOUN'), ('or', 'CONJ'), ('seeing', 'VERB'), ('the', 'DET'), ('company', 'NOUN'), ('fall', 'NOUN'), ('into', 'ADP'), ('the', 'DET'), ('arms', 'NOUN'), ('of', 'ADP'), ('a', 'DET'), ('rival', 'NOUN'), ('.', '.'), ('Mexico', 'NOUN'), (',', '.'), ('which', 'DET'), ('*T*-1', 'X'), ('is', 'VERB'), ('normally', 'ADV'), ('a', 'DET'), ('sugar', 'NOUN'), ('exporter', 'NOUN'), (',', '.'), ('has', 'VERB'), ('had', 'VERB'), ('production', 'NOUN'), ('problems', 'NOUN'), ('in', 'ADP'), ('the', 'DET'), ('past', 'ADJ'), ('two', 'NUM'), ('years', 'NOUN'), (',', '.'), ('analysts', 'NOUN'), ('said', 'VERB'), ('0', 'X'), ('*T*-2', 'X'), ('.', '.')]\n"
     ]
    }
   ],
   "source": [
    "# tagging the test sentences\n",
    "start = time.time()\n",
    "tagged_seq = Viterbi(test_tagged_words)\n",
    "end = time.time()\n",
    "difference = end-start\n",
    "print(\"Time taken in seconds: \", difference)\n",
    "print(tagged_seq)"
   ]
  },
  {
   "cell_type": "code",
   "execution_count": 25,
   "metadata": {},
   "outputs": [
    {
     "data": {
      "text/plain": [
       "0.9526627218934911"
      ]
     },
     "execution_count": 25,
     "metadata": {},
     "output_type": "execute_result"
    }
   ],
   "source": [
    "# accuracy\n",
    "check = [i for i, j in zip(tagged_seq, test_run_base) if i == j] \n",
    "vannila_viterbi_accuracy = len(check)/len(tagged_seq)\n",
    "vannila_viterbi_accuracy"
   ]
  },
  {
   "cell_type": "code",
   "execution_count": 26,
   "metadata": {},
   "outputs": [
    {
     "data": {
      "text/plain": [
       "[[('Ohio', 'NOUN'), (('Mattress', 'ADV'), ('Mattress', 'NOUN'))],\n",
       " [('the', 'DET'), (('bedding', 'ADV'), ('bedding', 'NOUN'))],\n",
       " [(',', '.'), (('traced', 'ADV'), ('traced', 'VERB'))],\n",
       " [('another', 'DET'), (('wave', 'ADV'), ('wave', 'NOUN'))],\n",
       " [('.', '.'), (('Second', 'NOUN'), ('Second', 'ADJ'))],\n",
       " [('they', 'PRON'), (('channel', 'ADV'), ('channel', 'VERB'))],\n",
       " [('administrative', 'ADJ'), (('burden', 'ADV'), ('burden', 'NOUN'))],\n",
       " [('the', 'DET'), (('dilemma', 'ADV'), ('dilemma', 'NOUN'))]]"
      ]
     },
     "execution_count": 26,
     "metadata": {},
     "output_type": "execute_result"
    }
   ],
   "source": [
    "incorrect_tagged_cases = [[test_run_base[i-1],j] for i, j in enumerate(zip(tagged_seq, test_run_base)) if j[0]!=j[1]]\n",
    "incorrect_tagged_cases"
   ]
  },
  {
   "cell_type": "code",
   "execution_count": 27,
   "metadata": {
    "scrolled": false
   },
   "outputs": [
    {
     "name": "stdout",
     "output_type": "stream",
     "text": [
      "[('Android', 'ADV'), ('is', 'VERB'), ('a', 'DET'), ('mobile', 'ADJ'), ('operating', 'NOUN'), ('system', 'NOUN'), ('developed', 'VERB'), ('by', 'ADP'), ('Google', 'ADV'), ('.', '.'), ('Android', 'ADV'), ('has', 'VERB'), ('been', 'VERB'), ('the', 'DET'), ('best-selling', 'ADJ'), ('OS', 'ADV'), ('worldwide', 'ADV'), ('on', 'ADP'), ('smartphones', 'ADV'), ('since', 'ADP'), ('2011', 'ADV'), ('and', 'CONJ'), ('on', 'ADP'), ('tablets', 'NOUN'), ('since', 'ADP'), ('2013', 'ADV'), ('.', '.'), ('Google', 'ADV'), ('and', 'CONJ'), ('Twitter', 'ADV'), ('made', 'VERB'), ('a', 'DET'), ('deal', 'NOUN'), ('in', 'ADP'), ('2015', 'ADV'), ('that', 'ADP'), ('gave', 'VERB'), ('Google', 'ADV'), ('access', 'NOUN'), ('to', 'PRT'), ('Twitter', 'ADV'), (\"'s\", 'PRT'), ('firehose', 'ADV'), ('.', '.'), ('Twitter', 'ADV'), ('is', 'VERB'), ('an', 'DET'), ('online', 'ADV'), ('news', 'NOUN'), ('and', 'CONJ'), ('social', 'ADJ'), ('networking', 'NOUN'), ('service', 'NOUN'), ('on', 'ADP'), ('which', 'DET'), ('users', 'NOUN'), ('post', 'NOUN'), ('and', 'CONJ'), ('interact', 'ADV'), ('with', 'ADP'), ('messages', 'ADV'), ('known', 'VERB'), ('as', 'ADP'), ('tweets', 'ADV'), ('.', '.'), ('Before', 'ADP'), ('entering', 'VERB'), ('politics', 'NOUN'), (',', '.'), ('Donald', 'NOUN'), ('Trump', 'NOUN'), ('was', 'VERB'), ('a', 'DET'), ('domineering', 'ADV'), ('businessman', 'NOUN'), ('and', 'CONJ'), ('a', 'DET'), ('television', 'NOUN'), ('personality', 'ADV'), ('.', '.'), ('The', 'DET'), ('2018', 'ADV'), ('FIFA', 'ADV'), ('World', 'NOUN'), ('Cup', 'ADV'), ('is', 'VERB'), ('the', 'DET'), ('21st', 'ADV'), ('FIFA', 'ADV'), ('World', 'NOUN'), ('Cup', 'ADV'), (',', '.'), ('an', 'DET'), ('international', 'ADJ'), ('football', 'NOUN'), ('tournament', 'ADV'), ('contested', 'ADV'), ('once', 'ADV'), ('every', 'DET'), ('four', 'NUM'), ('years', 'NOUN'), ('.', '.'), ('This', 'DET'), ('is', 'VERB'), ('the', 'DET'), ('first', 'ADJ'), ('World', 'NOUN'), ('Cup', 'ADV'), ('to', 'PRT'), ('be', 'VERB'), ('held', 'VERB'), ('in', 'ADP'), ('Eastern', 'NOUN'), ('Europe', 'NOUN'), ('and', 'CONJ'), ('the', 'DET'), ('11th', 'ADJ'), ('time', 'NOUN'), ('that', 'ADP'), ('it', 'PRON'), ('has', 'VERB'), ('been', 'VERB'), ('held', 'VERB'), ('in', 'ADP'), ('Europe', 'NOUN'), ('.', '.'), ('Show', 'NOUN'), ('me', 'PRON'), ('the', 'DET'), ('cheapest', 'ADJ'), ('round', 'NOUN'), ('trips', 'ADV'), ('from', 'ADP'), ('Dallas', 'NOUN'), ('to', 'PRT'), ('Atlanta', 'NOUN'), ('I', 'PRON'), ('would', 'VERB'), ('like', 'ADP'), ('to', 'PRT'), ('see', 'VERB'), ('flights', 'NOUN'), ('from', 'ADP'), ('Denver', 'NOUN'), ('to', 'PRT'), ('Philadelphia', 'NOUN'), ('.', '.'), ('Show', 'NOUN'), ('me', 'PRON'), ('the', 'DET'), ('price', 'NOUN'), ('of', 'ADP'), ('the', 'DET'), ('flights', 'NOUN'), ('leaving', 'VERB'), ('Atlanta', 'NOUN'), ('at', 'ADP'), ('about', 'ADP'), ('3', 'NUM'), ('in', 'ADP'), ('the', 'DET'), ('afternoon', 'NOUN'), ('and', 'CONJ'), ('arriving', 'ADV'), ('in', 'ADP'), ('San', 'NOUN'), ('Francisco', 'NOUN'), ('.', '.'), ('NASA', 'ADV'), ('invited', 'ADV'), ('social', 'ADJ'), ('media', 'NOUN'), ('users', 'NOUN'), ('to', 'PRT'), ('experience', 'NOUN'), ('the', 'DET'), ('launch', 'NOUN'), ('of', 'ADP'), ('ICESAT-2', 'ADV'), ('Satellite', 'ADV'), ('.', '.')]\n",
      "79.41836094856262\n"
     ]
    }
   ],
   "source": [
    "sentence_test = open('Test_sentences.txt',mode='r').read()\n",
    "words = word_tokenize(sentence_test)\n",
    "\n",
    "start = time.time()\n",
    "tagged_seq = Viterbi(words)\n",
    "end = time.time()\n",
    "difference = end-start\n",
    "\n",
    "print(tagged_seq)\n",
    "print(difference)\n",
    "vannila_test_tagged_seq = tagged_seq"
   ]
  },
  {
   "cell_type": "markdown",
   "metadata": {},
   "source": [
    "### Solve the problem of unknown words"
   ]
  },
  {
   "cell_type": "code",
   "execution_count": 28,
   "metadata": {},
   "outputs": [],
   "source": [
    "###Version 1 : Rule Based Tagging with Viterbi"
   ]
  },
  {
   "cell_type": "code",
   "execution_count": 29,
   "metadata": {},
   "outputs": [],
   "source": [
    "pattern = [\n",
    "        (r'.*Twitter$', 'NOUN'), \n",
    "        (r'.*Android$', 'NOUN'),\n",
    "        (r'.*Google$', 'NOUN'),\n",
    "        (r'[-+]?\\d*\\.\\d+|\\d+', 'NUM'), # Number with floating values\n",
    "        (r'.*es$', 'VERB'), \n",
    "        (r'.*ing$', 'VERB'), # gerunds or continuous tense\n",
    "        (r'.*ed$', 'VERB'),  # past perfect tense\n",
    "        (r'[A-Z ]+', 'NOUN'),  # all caps eg. FIFA, NASA, etc\n",
    "        (r'.*', 'NOUN'), # default value as NOUN\n",
    "]\n",
    "\n",
    "def rule_based_tagging(word, pattern):\n",
    "    regexp_tagger = nltk.RegexpTagger(pattern)\n",
    "    kv = regexp_tagger.tag(nltk.word_tokenize(word))\n",
    "    for v in kv:\n",
    "        print(word)\n",
    "        print(v[1])\n",
    "        return v[1]"
   ]
  },
  {
   "cell_type": "code",
   "execution_count": 30,
   "metadata": {},
   "outputs": [
    {
     "name": "stdout",
     "output_type": "stream",
     "text": [
      "Mattress\n",
      "NOUN\n",
      "bedding\n",
      "VERB\n",
      "traced\n",
      "VERB\n",
      "wave\n",
      "NOUN\n",
      "channel\n",
      "NOUN\n",
      "burden\n",
      "NOUN\n",
      "dilemma\n",
      "NOUN\n",
      "Time taken in seconds:  73.55143523216248\n",
      "[('In', 'ADP'), ('addition', 'NOUN'), (',', '.'), ('a', 'DET'), ('big', 'ADJ'), ('loan', 'NOUN'), ('that', 'ADP'), ('First', 'NOUN'), ('Boston', 'NOUN'), ('made', 'VERB'), ('*T*-2', 'X'), ('to', 'PRT'), ('Ohio', 'NOUN'), ('Mattress', 'NOUN'), ('Co', 'NOUN'), ('.', '.'), ('was', 'VERB'), (\"n't\", 'ADV'), ('repaid', 'VERB'), ('on', 'ADP'), ('time', 'NOUN'), ('when', 'ADV'), ('its', 'PRON'), ('$', '.'), ('450', 'NUM'), ('million', 'NUM'), ('*U*', 'X'), ('junk', 'NOUN'), ('financing', 'NOUN'), ('for', 'ADP'), ('a', 'DET'), ('buy-out', 'NOUN'), ('of', 'ADP'), ('the', 'DET'), ('bedding', 'VERB'), ('company', 'NOUN'), ('was', 'VERB'), ('withdrawn', 'VERB'), ('*-1', 'X'), ('*T*-3', 'X'), ('.', '.'), ('Douglas', 'NOUN'), ('Madison', 'NOUN'), (',', '.'), ('a', 'DET'), ('corporate', 'ADJ'), ('trader', 'NOUN'), ('with', 'ADP'), ('Bank', 'NOUN'), ('of', 'ADP'), ('America', 'NOUN'), ('in', 'ADP'), ('Los', 'NOUN'), ('Angeles', 'NOUN'), (',', '.'), ('traced', 'VERB'), ('the', 'DET'), ('dollar', 'NOUN'), (\"'s\", 'PRT'), ('recent', 'ADJ'), ('solid', 'ADJ'), ('performance', 'NOUN'), ('against', 'ADP'), ('the', 'DET'), ('yen', 'NOUN'), ('to', 'PRT'), ('purchases', 'NOUN'), ('of', 'ADP'), ('securities', 'NOUN'), ('by', 'ADP'), ('Japanese', 'ADJ'), ('insurance', 'NOUN'), ('companies', 'NOUN'), ('and', 'CONJ'), ('trust', 'NOUN'), ('banks', 'NOUN'), ('and', 'CONJ'), ('the', 'DET'), ('sense', 'NOUN'), ('that', 'ADP'), ('another', 'DET'), ('wave', 'NOUN'), ('of', 'ADP'), ('investment', 'NOUN'), ('is', 'VERB'), ('waiting', 'VERB'), ('in', 'ADP'), ('the', 'DET'), ('wings', 'NOUN'), ('.', '.'), ('Second', 'NOUN'), (',', '.'), ('they', 'PRON'), ('channel', 'NOUN'), ('monthly', 'ADJ'), ('mortgage', 'NOUN'), ('payments', 'NOUN'), ('into', 'ADP'), ('semiannual', 'ADJ'), ('payments', 'NOUN'), (',', '.'), ('*-1', 'X'), ('reducing', 'VERB'), ('the', 'DET'), ('administrative', 'ADJ'), ('burden', 'NOUN'), ('on', 'ADP'), ('investors', 'NOUN'), ('.', '.'), ('If', 'ADP'), ('a', 'DET'), ('competitor', 'NOUN'), ('enters', 'VERB'), ('the', 'DET'), ('game', 'NOUN'), (',', '.'), ('for', 'ADP'), ('example', 'NOUN'), (',', '.'), ('Mr.', 'NOUN'), ('Hahn', 'NOUN'), ('could', 'VERB'), ('face', 'VERB'), ('the', 'DET'), ('dilemma', 'NOUN'), ('of', 'ADP'), ('*', 'X'), ('paying', 'VERB'), ('a', 'DET'), ('premium', 'NOUN'), ('for', 'ADP'), ('Nekoosa', 'NOUN'), ('or', 'CONJ'), ('seeing', 'VERB'), ('the', 'DET'), ('company', 'NOUN'), ('fall', 'NOUN'), ('into', 'ADP'), ('the', 'DET'), ('arms', 'NOUN'), ('of', 'ADP'), ('a', 'DET'), ('rival', 'NOUN'), ('.', '.'), ('Mexico', 'NOUN'), (',', '.'), ('which', 'DET'), ('*T*-1', 'X'), ('is', 'VERB'), ('normally', 'ADV'), ('a', 'DET'), ('sugar', 'NOUN'), ('exporter', 'NOUN'), (',', '.'), ('has', 'VERB'), ('had', 'VERB'), ('production', 'NOUN'), ('problems', 'NOUN'), ('in', 'ADP'), ('the', 'DET'), ('past', 'ADJ'), ('two', 'NUM'), ('years', 'NOUN'), (',', '.'), ('analysts', 'NOUN'), ('said', 'VERB'), ('0', 'X'), ('*T*-2', 'X'), ('.', '.')]\n"
     ]
    }
   ],
   "source": [
    "# Viterbi Heuristic\n",
    "def modified_Viterbi_rule_based(words, train_bag = train_tagged_words):\n",
    "    state = []\n",
    "    T = list(set([pair[1] for pair in train_bag]))\n",
    "    \n",
    "    for key, word in enumerate(words):\n",
    "        #initialise list of probability column for a given observation\n",
    "        p = [] \n",
    "        for tag in T:\n",
    "            if key == 0:\n",
    "                transition_p = tags_df.loc['.', tag]\n",
    "            else:\n",
    "                transition_p = tags_df.loc[state[-1], tag]\n",
    "                \n",
    "            # compute emission and state probabilities\n",
    "            emission_p = word_given_tag(words[key], tag)[0]/word_given_tag(words[key], tag)[1]                \n",
    "            state_probability = emission_p * transition_p    \n",
    "            p.append(state_probability)\n",
    "        pmax = max(p)\n",
    "        if pmax == 0.0:       \n",
    "            state_max = rule_based_tagging(word, pattern)\n",
    "            if state_max is None :\n",
    "                state_max = \".\"\n",
    "        else :\n",
    "            state_max = T[p.index(pmax)] \n",
    "        state.append(state_max)\n",
    "    return list(zip(words, state))\n",
    "\n",
    "random.seed(1234)\n",
    "\n",
    "# choose random 5 sents\n",
    "rndom = [random.randint(1,len(test_set)) for x in range(5)]\n",
    "\n",
    "# list of sents\n",
    "test_run = [test_set[i] for i in rndom]\n",
    "\n",
    "# list of tagged words\n",
    "test_run_base = [tup for sent in test_run for tup in sent]\n",
    "\n",
    "# list of untagged words\n",
    "test_tagged_words = [tup[0] for sent in test_run for tup in sent]\n",
    "test_run\n",
    "\n",
    "# tagging the test sentences\n",
    "start = time.time()\n",
    "tagged_seq = modified_Viterbi_rule_based(test_tagged_words)\n",
    "end = time.time()\n",
    "difference = end-start\n",
    "\n",
    "print(\"Time taken in seconds: \", difference)\n",
    "print(tagged_seq)"
   ]
  },
  {
   "cell_type": "code",
   "execution_count": 31,
   "metadata": {},
   "outputs": [
    {
     "name": "stdout",
     "output_type": "stream",
     "text": [
      "0.9822485207100592\n"
     ]
    }
   ],
   "source": [
    "# accuracy\n",
    "check = [i for i, j in zip(tagged_seq, test_run_base) if i == j] \n",
    "rulebased_modified_viterbi_accuracy = len(check)/len(tagged_seq)\n",
    "print(rulebased_modified_viterbi_accuracy)"
   ]
  },
  {
   "cell_type": "code",
   "execution_count": 32,
   "metadata": {},
   "outputs": [
    {
     "data": {
      "text/plain": [
       "[[('the', 'DET'), (('bedding', 'VERB'), ('bedding', 'NOUN'))],\n",
       " [('.', '.'), (('Second', 'NOUN'), ('Second', 'ADJ'))],\n",
       " [('they', 'PRON'), (('channel', 'NOUN'), ('channel', 'VERB'))]]"
      ]
     },
     "execution_count": 32,
     "metadata": {},
     "output_type": "execute_result"
    }
   ],
   "source": [
    "incorrect_tagged_cases = [[test_run_base[i-1],j] for i, j in enumerate(zip(tagged_seq, test_run_base)) if j[0]!=j[1]]\n",
    "incorrect_tagged_cases"
   ]
  },
  {
   "cell_type": "code",
   "execution_count": 33,
   "metadata": {},
   "outputs": [
    {
     "name": "stdout",
     "output_type": "stream",
     "text": [
      "Android\n",
      "NOUN\n",
      "Google\n",
      "NOUN\n",
      "Android\n",
      "NOUN\n",
      "OS\n",
      "NOUN\n",
      "worldwide\n",
      "NOUN\n",
      "smartphones\n",
      "VERB\n",
      "2011\n",
      "NUM\n",
      "2013\n",
      "NUM\n",
      "Google\n",
      "NOUN\n",
      "Twitter\n",
      "NOUN\n",
      "2015\n",
      "NUM\n",
      "Google\n",
      "NOUN\n",
      "Twitter\n",
      "NOUN\n",
      "firehose\n",
      "NOUN\n",
      "Twitter\n",
      "NOUN\n",
      "online\n",
      "NOUN\n",
      "interact\n",
      "NOUN\n",
      "messages\n",
      "VERB\n",
      "tweets\n",
      "NOUN\n",
      "domineering\n",
      "VERB\n",
      "personality\n",
      "NOUN\n",
      "2018\n",
      "NUM\n",
      "FIFA\n",
      "NOUN\n",
      "Cup\n",
      "NOUN\n",
      "21st\n",
      "NUM\n",
      "FIFA\n",
      "NOUN\n",
      "Cup\n",
      "NOUN\n",
      "tournament\n",
      "NOUN\n",
      "contested\n",
      "VERB\n",
      "Cup\n",
      "NOUN\n",
      "trips\n",
      "NOUN\n",
      "arriving\n",
      "VERB\n",
      "NASA\n",
      "NOUN\n",
      "invited\n",
      "VERB\n",
      "ICESAT-2\n",
      "NOUN\n",
      "Satellite\n",
      "NOUN\n",
      "[('Android', 'NOUN'), ('is', 'VERB'), ('a', 'DET'), ('mobile', 'ADJ'), ('operating', 'NOUN'), ('system', 'NOUN'), ('developed', 'VERB'), ('by', 'ADP'), ('Google', 'NOUN'), ('.', '.'), ('Android', 'NOUN'), ('has', 'VERB'), ('been', 'VERB'), ('the', 'DET'), ('best-selling', 'ADJ'), ('OS', 'NOUN'), ('worldwide', 'NOUN'), ('on', 'ADP'), ('smartphones', 'VERB'), ('since', 'ADP'), ('2011', 'NUM'), ('and', 'CONJ'), ('on', 'ADP'), ('tablets', 'NOUN'), ('since', 'ADP'), ('2013', 'NUM'), ('.', '.'), ('Google', 'NOUN'), ('and', 'CONJ'), ('Twitter', 'NOUN'), ('made', 'VERB'), ('a', 'DET'), ('deal', 'NOUN'), ('in', 'ADP'), ('2015', 'NUM'), ('that', 'ADP'), ('gave', 'VERB'), ('Google', 'NOUN'), ('access', 'NOUN'), ('to', 'PRT'), ('Twitter', 'NOUN'), (\"'s\", 'PRT'), ('firehose', 'NOUN'), ('.', '.'), ('Twitter', 'NOUN'), ('is', 'VERB'), ('an', 'DET'), ('online', 'NOUN'), ('news', 'NOUN'), ('and', 'CONJ'), ('social', 'ADJ'), ('networking', 'NOUN'), ('service', 'NOUN'), ('on', 'ADP'), ('which', 'DET'), ('users', 'NOUN'), ('post', 'NOUN'), ('and', 'CONJ'), ('interact', 'NOUN'), ('with', 'ADP'), ('messages', 'VERB'), ('known', 'VERB'), ('as', 'ADP'), ('tweets', 'NOUN'), ('.', '.'), ('Before', 'ADP'), ('entering', 'VERB'), ('politics', 'NOUN'), (',', '.'), ('Donald', 'NOUN'), ('Trump', 'NOUN'), ('was', 'VERB'), ('a', 'DET'), ('domineering', 'VERB'), ('businessman', 'NOUN'), ('and', 'CONJ'), ('a', 'DET'), ('television', 'NOUN'), ('personality', 'NOUN'), ('.', '.'), ('The', 'DET'), ('2018', 'NUM'), ('FIFA', 'NOUN'), ('World', 'NOUN'), ('Cup', 'NOUN'), ('is', 'VERB'), ('the', 'DET'), ('21st', 'NUM'), ('FIFA', 'NOUN'), ('World', 'NOUN'), ('Cup', 'NOUN'), (',', '.'), ('an', 'DET'), ('international', 'ADJ'), ('football', 'NOUN'), ('tournament', 'NOUN'), ('contested', 'VERB'), ('once', 'ADV'), ('every', 'DET'), ('four', 'NUM'), ('years', 'NOUN'), ('.', '.'), ('This', 'DET'), ('is', 'VERB'), ('the', 'DET'), ('first', 'ADJ'), ('World', 'NOUN'), ('Cup', 'NOUN'), ('to', 'PRT'), ('be', 'VERB'), ('held', 'VERB'), ('in', 'ADP'), ('Eastern', 'NOUN'), ('Europe', 'NOUN'), ('and', 'CONJ'), ('the', 'DET'), ('11th', 'ADJ'), ('time', 'NOUN'), ('that', 'ADP'), ('it', 'PRON'), ('has', 'VERB'), ('been', 'VERB'), ('held', 'VERB'), ('in', 'ADP'), ('Europe', 'NOUN'), ('.', '.'), ('Show', 'NOUN'), ('me', 'PRON'), ('the', 'DET'), ('cheapest', 'ADJ'), ('round', 'NOUN'), ('trips', 'NOUN'), ('from', 'ADP'), ('Dallas', 'NOUN'), ('to', 'PRT'), ('Atlanta', 'NOUN'), ('I', 'PRON'), ('would', 'VERB'), ('like', 'ADP'), ('to', 'PRT'), ('see', 'VERB'), ('flights', 'NOUN'), ('from', 'ADP'), ('Denver', 'NOUN'), ('to', 'PRT'), ('Philadelphia', 'NOUN'), ('.', '.'), ('Show', 'NOUN'), ('me', 'PRON'), ('the', 'DET'), ('price', 'NOUN'), ('of', 'ADP'), ('the', 'DET'), ('flights', 'NOUN'), ('leaving', 'VERB'), ('Atlanta', 'NOUN'), ('at', 'ADP'), ('about', 'ADP'), ('3', 'NUM'), ('in', 'ADP'), ('the', 'DET'), ('afternoon', 'NOUN'), ('and', 'CONJ'), ('arriving', 'VERB'), ('in', 'ADP'), ('San', 'NOUN'), ('Francisco', 'NOUN'), ('.', '.'), ('NASA', 'NOUN'), ('invited', 'VERB'), ('social', 'ADJ'), ('media', 'NOUN'), ('users', 'NOUN'), ('to', 'PRT'), ('experience', 'NOUN'), ('the', 'DET'), ('launch', 'NOUN'), ('of', 'ADP'), ('ICESAT-2', 'NOUN'), ('Satellite', 'NOUN'), ('.', '.')]\n",
      "76.29769921302795\n"
     ]
    }
   ],
   "source": [
    "sentence_test = open('Test_sentences.txt',mode='r').read()\n",
    "words = word_tokenize(sentence_test)\n",
    "\n",
    "start = time.time()\n",
    "tagged_seq = modified_Viterbi_rule_based(words)\n",
    "end = time.time()\n",
    "difference = end-start\n",
    "\n",
    "print(tagged_seq)\n",
    "print(difference)\n",
    "rulebased_test_tagged_seq = tagged_seq"
   ]
  },
  {
   "cell_type": "code",
   "execution_count": 34,
   "metadata": {},
   "outputs": [],
   "source": [
    "###Version 2 : Rule Based Tagging with Viterbi\n",
    "\n",
    "def bigram_tagger(wording) :\n",
    "    t0 = DefaultTagger('NOUN')\n",
    "    t1 = UnigramTagger(train_set, backoff=t0)\n",
    "    t2 = BigramTagger(train_set, backoff=t1)\n",
    "    listvalue=t2.tag(nltk.word_tokenize(wording))\n",
    "    return listvalue[0][1]"
   ]
  },
  {
   "cell_type": "code",
   "execution_count": 35,
   "metadata": {},
   "outputs": [
    {
     "name": "stdout",
     "output_type": "stream",
     "text": [
      "Mattress\n",
      "NOUN\n",
      "bedding\n",
      "VERB\n",
      "traced\n",
      "VERB\n",
      "wave\n",
      "NOUN\n",
      "channel\n",
      "NOUN\n",
      "burden\n",
      "NOUN\n",
      "dilemma\n",
      "NOUN\n",
      "Time taken in seconds:  76.60044932365417\n",
      "[('In', 'ADP'), ('addition', 'NOUN'), (',', '.'), ('a', 'DET'), ('big', 'ADJ'), ('loan', 'NOUN'), ('that', 'ADP'), ('First', 'NOUN'), ('Boston', 'NOUN'), ('made', 'VERB'), ('*T*-2', 'X'), ('to', 'PRT'), ('Ohio', 'NOUN'), ('Mattress', 'NOUN'), ('Co', 'NOUN'), ('.', '.'), ('was', 'VERB'), (\"n't\", 'ADV'), ('repaid', 'VERB'), ('on', 'ADP'), ('time', 'NOUN'), ('when', 'ADV'), ('its', 'PRON'), ('$', '.'), ('450', 'NUM'), ('million', 'NUM'), ('*U*', 'X'), ('junk', 'NOUN'), ('financing', 'NOUN'), ('for', 'ADP'), ('a', 'DET'), ('buy-out', 'NOUN'), ('of', 'ADP'), ('the', 'DET'), ('bedding', 'VERB'), ('company', 'NOUN'), ('was', 'VERB'), ('withdrawn', 'VERB'), ('*-1', 'X'), ('*T*-3', 'X'), ('.', '.'), ('Douglas', 'NOUN'), ('Madison', 'NOUN'), (',', '.'), ('a', 'DET'), ('corporate', 'ADJ'), ('trader', 'NOUN'), ('with', 'ADP'), ('Bank', 'NOUN'), ('of', 'ADP'), ('America', 'NOUN'), ('in', 'ADP'), ('Los', 'NOUN'), ('Angeles', 'NOUN'), (',', '.'), ('traced', 'VERB'), ('the', 'DET'), ('dollar', 'NOUN'), (\"'s\", 'PRT'), ('recent', 'ADJ'), ('solid', 'ADJ'), ('performance', 'NOUN'), ('against', 'ADP'), ('the', 'DET'), ('yen', 'NOUN'), ('to', 'PRT'), ('purchases', 'NOUN'), ('of', 'ADP'), ('securities', 'NOUN'), ('by', 'ADP'), ('Japanese', 'ADJ'), ('insurance', 'NOUN'), ('companies', 'NOUN'), ('and', 'CONJ'), ('trust', 'NOUN'), ('banks', 'NOUN'), ('and', 'CONJ'), ('the', 'DET'), ('sense', 'NOUN'), ('that', 'ADP'), ('another', 'DET'), ('wave', 'NOUN'), ('of', 'ADP'), ('investment', 'NOUN'), ('is', 'VERB'), ('waiting', 'VERB'), ('in', 'ADP'), ('the', 'DET'), ('wings', 'NOUN'), ('.', '.'), ('Second', 'NOUN'), (',', '.'), ('they', 'PRON'), ('channel', 'NOUN'), ('monthly', 'ADJ'), ('mortgage', 'NOUN'), ('payments', 'NOUN'), ('into', 'ADP'), ('semiannual', 'ADJ'), ('payments', 'NOUN'), (',', '.'), ('*-1', 'X'), ('reducing', 'VERB'), ('the', 'DET'), ('administrative', 'ADJ'), ('burden', 'NOUN'), ('on', 'ADP'), ('investors', 'NOUN'), ('.', '.'), ('If', 'ADP'), ('a', 'DET'), ('competitor', 'NOUN'), ('enters', 'VERB'), ('the', 'DET'), ('game', 'NOUN'), (',', '.'), ('for', 'ADP'), ('example', 'NOUN'), (',', '.'), ('Mr.', 'NOUN'), ('Hahn', 'NOUN'), ('could', 'VERB'), ('face', 'VERB'), ('the', 'DET'), ('dilemma', 'NOUN'), ('of', 'ADP'), ('*', 'X'), ('paying', 'VERB'), ('a', 'DET'), ('premium', 'NOUN'), ('for', 'ADP'), ('Nekoosa', 'NOUN'), ('or', 'CONJ'), ('seeing', 'VERB'), ('the', 'DET'), ('company', 'NOUN'), ('fall', 'NOUN'), ('into', 'ADP'), ('the', 'DET'), ('arms', 'NOUN'), ('of', 'ADP'), ('a', 'DET'), ('rival', 'NOUN'), ('.', '.'), ('Mexico', 'NOUN'), (',', '.'), ('which', 'DET'), ('*T*-1', 'X'), ('is', 'VERB'), ('normally', 'ADV'), ('a', 'DET'), ('sugar', 'NOUN'), ('exporter', 'NOUN'), (',', '.'), ('has', 'VERB'), ('had', 'VERB'), ('production', 'NOUN'), ('problems', 'NOUN'), ('in', 'ADP'), ('the', 'DET'), ('past', 'ADJ'), ('two', 'NUM'), ('years', 'NOUN'), (',', '.'), ('analysts', 'NOUN'), ('said', 'VERB'), ('0', 'X'), ('*T*-2', 'X'), ('.', '.')]\n"
     ]
    }
   ],
   "source": [
    "# Viterbi Heuristic\n",
    "def modified_Viterbi_lexicon_based(words, train_bag = train_tagged_words):\n",
    "    state = []\n",
    "    T = list(set([pair[1] for pair in train_bag]))\n",
    "    \n",
    "    for key, word in enumerate(words):\n",
    "        #initialise list of probability column for a given observation\n",
    "        p = [] \n",
    "        for tag in T:\n",
    "            if key == 0:\n",
    "                transition_p = tags_df.loc['.', tag]\n",
    "            else:\n",
    "                transition_p = tags_df.loc[state[-1], tag]\n",
    "                \n",
    "            # compute emission and state probabilities\n",
    "            emission_p = word_given_tag(words[key], tag)[0]/word_given_tag(words[key], tag)[1]                \n",
    "            state_probability = emission_p * transition_p    \n",
    "            p.append(state_probability)\n",
    "        pmax = max(p)\n",
    "        if pmax == 0.0:       \n",
    "            state_max = rule_based_tagging(word, pattern)\n",
    "            if state_max is None :\n",
    "                state_max = \".\"\n",
    "        else :\n",
    "            state_max = T[p.index(pmax)] \n",
    "        state.append(state_max)\n",
    "    return list(zip(words, state))\n",
    "\n",
    "random.seed(1234)\n",
    "\n",
    "# choose random 5 sents\n",
    "rndom = [random.randint(1,len(test_set)) for x in range(5)]\n",
    "\n",
    "# list of sents\n",
    "test_run = [test_set[i] for i in rndom]\n",
    "\n",
    "# list of tagged words\n",
    "test_run_base = [tup for sent in test_run for tup in sent]\n",
    "\n",
    "# list of untagged words\n",
    "test_tagged_words = [tup[0] for sent in test_run for tup in sent]\n",
    "test_run\n",
    "\n",
    "# tagging the test sentences\n",
    "start = time.time()\n",
    "tagged_seq = modified_Viterbi_lexicon_based(test_tagged_words)\n",
    "end = time.time()\n",
    "difference = end-start\n",
    "\n",
    "print(\"Time taken in seconds: \", difference)\n",
    "print(tagged_seq)"
   ]
  },
  {
   "cell_type": "code",
   "execution_count": 36,
   "metadata": {},
   "outputs": [
    {
     "name": "stdout",
     "output_type": "stream",
     "text": [
      "0.9822485207100592\n"
     ]
    },
    {
     "data": {
      "text/plain": [
       "[[('the', 'DET'), (('bedding', 'VERB'), ('bedding', 'NOUN'))],\n",
       " [('.', '.'), (('Second', 'NOUN'), ('Second', 'ADJ'))],\n",
       " [('they', 'PRON'), (('channel', 'NOUN'), ('channel', 'VERB'))]]"
      ]
     },
     "execution_count": 36,
     "metadata": {},
     "output_type": "execute_result"
    }
   ],
   "source": [
    "# accuracy\n",
    "check = [i for i, j in zip(tagged_seq, test_run_base) if i == j] \n",
    "lexicon_based_viterbi_accuracy = len(check)/len(tagged_seq)\n",
    "print(lexicon_based_viterbi_accuracy)\n",
    "\n",
    "incorrect_tagged_cases = [[test_run_base[i-1],j] for i, j in enumerate(zip(tagged_seq, test_run_base)) if j[0]!=j[1]]\n",
    "incorrect_tagged_cases"
   ]
  },
  {
   "cell_type": "code",
   "execution_count": 37,
   "metadata": {},
   "outputs": [
    {
     "name": "stdout",
     "output_type": "stream",
     "text": [
      "Android\n",
      "NOUN\n",
      "Google\n",
      "NOUN\n",
      "Android\n",
      "NOUN\n",
      "OS\n",
      "NOUN\n",
      "worldwide\n",
      "NOUN\n",
      "smartphones\n",
      "VERB\n",
      "2011\n",
      "NUM\n",
      "2013\n",
      "NUM\n",
      "Google\n",
      "NOUN\n",
      "Twitter\n",
      "NOUN\n",
      "2015\n",
      "NUM\n",
      "Google\n",
      "NOUN\n",
      "Twitter\n",
      "NOUN\n",
      "firehose\n",
      "NOUN\n",
      "Twitter\n",
      "NOUN\n",
      "online\n",
      "NOUN\n",
      "interact\n",
      "NOUN\n",
      "messages\n",
      "VERB\n",
      "tweets\n",
      "NOUN\n",
      "domineering\n",
      "VERB\n",
      "personality\n",
      "NOUN\n",
      "2018\n",
      "NUM\n",
      "FIFA\n",
      "NOUN\n",
      "Cup\n",
      "NOUN\n",
      "21st\n",
      "NUM\n",
      "FIFA\n",
      "NOUN\n",
      "Cup\n",
      "NOUN\n",
      "tournament\n",
      "NOUN\n",
      "contested\n",
      "VERB\n",
      "Cup\n",
      "NOUN\n",
      "trips\n",
      "NOUN\n",
      "arriving\n",
      "VERB\n",
      "NASA\n",
      "NOUN\n",
      "invited\n",
      "VERB\n",
      "ICESAT-2\n",
      "NOUN\n",
      "Satellite\n",
      "NOUN\n",
      "[('Android', 'NOUN'), ('is', 'VERB'), ('a', 'DET'), ('mobile', 'ADJ'), ('operating', 'NOUN'), ('system', 'NOUN'), ('developed', 'VERB'), ('by', 'ADP'), ('Google', 'NOUN'), ('.', '.'), ('Android', 'NOUN'), ('has', 'VERB'), ('been', 'VERB'), ('the', 'DET'), ('best-selling', 'ADJ'), ('OS', 'NOUN'), ('worldwide', 'NOUN'), ('on', 'ADP'), ('smartphones', 'VERB'), ('since', 'ADP'), ('2011', 'NUM'), ('and', 'CONJ'), ('on', 'ADP'), ('tablets', 'NOUN'), ('since', 'ADP'), ('2013', 'NUM'), ('.', '.'), ('Google', 'NOUN'), ('and', 'CONJ'), ('Twitter', 'NOUN'), ('made', 'VERB'), ('a', 'DET'), ('deal', 'NOUN'), ('in', 'ADP'), ('2015', 'NUM'), ('that', 'ADP'), ('gave', 'VERB'), ('Google', 'NOUN'), ('access', 'NOUN'), ('to', 'PRT'), ('Twitter', 'NOUN'), (\"'s\", 'PRT'), ('firehose', 'NOUN'), ('.', '.'), ('Twitter', 'NOUN'), ('is', 'VERB'), ('an', 'DET'), ('online', 'NOUN'), ('news', 'NOUN'), ('and', 'CONJ'), ('social', 'ADJ'), ('networking', 'NOUN'), ('service', 'NOUN'), ('on', 'ADP'), ('which', 'DET'), ('users', 'NOUN'), ('post', 'NOUN'), ('and', 'CONJ'), ('interact', 'NOUN'), ('with', 'ADP'), ('messages', 'VERB'), ('known', 'VERB'), ('as', 'ADP'), ('tweets', 'NOUN'), ('.', '.'), ('Before', 'ADP'), ('entering', 'VERB'), ('politics', 'NOUN'), (',', '.'), ('Donald', 'NOUN'), ('Trump', 'NOUN'), ('was', 'VERB'), ('a', 'DET'), ('domineering', 'VERB'), ('businessman', 'NOUN'), ('and', 'CONJ'), ('a', 'DET'), ('television', 'NOUN'), ('personality', 'NOUN'), ('.', '.'), ('The', 'DET'), ('2018', 'NUM'), ('FIFA', 'NOUN'), ('World', 'NOUN'), ('Cup', 'NOUN'), ('is', 'VERB'), ('the', 'DET'), ('21st', 'NUM'), ('FIFA', 'NOUN'), ('World', 'NOUN'), ('Cup', 'NOUN'), (',', '.'), ('an', 'DET'), ('international', 'ADJ'), ('football', 'NOUN'), ('tournament', 'NOUN'), ('contested', 'VERB'), ('once', 'ADV'), ('every', 'DET'), ('four', 'NUM'), ('years', 'NOUN'), ('.', '.'), ('This', 'DET'), ('is', 'VERB'), ('the', 'DET'), ('first', 'ADJ'), ('World', 'NOUN'), ('Cup', 'NOUN'), ('to', 'PRT'), ('be', 'VERB'), ('held', 'VERB'), ('in', 'ADP'), ('Eastern', 'NOUN'), ('Europe', 'NOUN'), ('and', 'CONJ'), ('the', 'DET'), ('11th', 'ADJ'), ('time', 'NOUN'), ('that', 'ADP'), ('it', 'PRON'), ('has', 'VERB'), ('been', 'VERB'), ('held', 'VERB'), ('in', 'ADP'), ('Europe', 'NOUN'), ('.', '.'), ('Show', 'NOUN'), ('me', 'PRON'), ('the', 'DET'), ('cheapest', 'ADJ'), ('round', 'NOUN'), ('trips', 'NOUN'), ('from', 'ADP'), ('Dallas', 'NOUN'), ('to', 'PRT'), ('Atlanta', 'NOUN'), ('I', 'PRON'), ('would', 'VERB'), ('like', 'ADP'), ('to', 'PRT'), ('see', 'VERB'), ('flights', 'NOUN'), ('from', 'ADP'), ('Denver', 'NOUN'), ('to', 'PRT'), ('Philadelphia', 'NOUN'), ('.', '.'), ('Show', 'NOUN'), ('me', 'PRON'), ('the', 'DET'), ('price', 'NOUN'), ('of', 'ADP'), ('the', 'DET'), ('flights', 'NOUN'), ('leaving', 'VERB'), ('Atlanta', 'NOUN'), ('at', 'ADP'), ('about', 'ADP'), ('3', 'NUM'), ('in', 'ADP'), ('the', 'DET'), ('afternoon', 'NOUN'), ('and', 'CONJ'), ('arriving', 'VERB'), ('in', 'ADP'), ('San', 'NOUN'), ('Francisco', 'NOUN'), ('.', '.'), ('NASA', 'NOUN'), ('invited', 'VERB'), ('social', 'ADJ'), ('media', 'NOUN'), ('users', 'NOUN'), ('to', 'PRT'), ('experience', 'NOUN'), ('the', 'DET'), ('launch', 'NOUN'), ('of', 'ADP'), ('ICESAT-2', 'NOUN'), ('Satellite', 'NOUN'), ('.', '.')]\n",
      "64.93964004516602\n"
     ]
    }
   ],
   "source": [
    "sentence_test = open('Test_sentences.txt',mode='r').read()\n",
    "words = word_tokenize(sentence_test)\n",
    "\n",
    "start = time.time()\n",
    "tagged_seq = modified_Viterbi_lexicon_based(words)\n",
    "end = time.time()\n",
    "difference = end-start\n",
    "\n",
    "print(tagged_seq)\n",
    "print(difference)\n",
    "lexicon_test_tagged_seq = tagged_seq"
   ]
  },
  {
   "cell_type": "markdown",
   "metadata": {},
   "source": [
    "### Compare the tagging accuracies of the modifications with the vanilla Viterbi algorithm"
   ]
  },
  {
   "cell_type": "code",
   "execution_count": 38,
   "metadata": {},
   "outputs": [
    {
     "name": "stdout",
     "output_type": "stream",
     "text": [
      "Vannila Viterbi Accuracy: 0.9526627218934911\n",
      "Lexicon Based Viterbi Accuracy: 0.9822485207100592\n",
      "Rule Based Viterbi Accuracy: 0.9822485207100592\n"
     ]
    }
   ],
   "source": [
    "print(\"Vannila Viterbi Accuracy: \"+ str(vannila_viterbi_accuracy))\n",
    "print(\"Lexicon Based Viterbi Accuracy: \"+ str(lexicon_based_viterbi_accuracy))\n",
    "print(\"Rule Based Viterbi Accuracy: \"+ str(rulebased_modified_viterbi_accuracy))"
   ]
  },
  {
   "cell_type": "markdown",
   "metadata": {},
   "source": [
    "##### Lexicon Based Viterbi & Rule Based Viterbi 's accuracy are greater than Plain Vannila Viterbi's accuracy"
   ]
  },
  {
   "cell_type": "markdown",
   "metadata": {},
   "source": [
    "### List down cases which were incorrectly tagged by original POS tagger and got corrected by your modifications"
   ]
  },
  {
   "cell_type": "markdown",
   "metadata": {},
   "source": [
    "* Words like 'Twitter', 'Android', 'Google' are properly tagged with 'NOUN' in modified Viterbi Algorithm\n",
    "* Words like 'NASA', 'FIFA' are correctly tagged as 'NOUN' (All Caps of a word generally will be an abbrevation and it is a noun)\n",
    "* Words ending with '-ing' like 'arriving' and words ending with '-ed' like 'invited' are properly tagged as 'VERB' in Rule Based Tagging\n",
    "* Words with integers or float are properly tagged as 'NUM' are properly tagged as NUM in rule based tagger\n",
    "* In Lexicon tagger, words are tagged as 'NOUN' by default in the default tagger if any of the taggers cannot able to tag them. And it corrects most of the unknown words like 'Google', 'Android', 'Twitter' etc."
   ]
  },
  {
   "cell_type": "markdown",
   "metadata": {},
   "source": []
  }
 ],
 "metadata": {
  "kernelspec": {
   "display_name": "Python 3",
   "language": "python",
   "name": "python3"
  },
  "language_info": {
   "codemirror_mode": {
    "name": "ipython",
    "version": 3
   },
   "file_extension": ".py",
   "mimetype": "text/x-python",
   "name": "python",
   "nbconvert_exporter": "python",
   "pygments_lexer": "ipython3",
   "version": "3.8.8"
  }
 },
 "nbformat": 4,
 "nbformat_minor": 2
}
